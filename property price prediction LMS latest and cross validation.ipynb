{
 "cells": [
  {
   "cell_type": "code",
   "execution_count": 83,
   "metadata": {},
   "outputs": [],
   "source": [
    "import pandas as pd"
   ]
  },
  {
   "cell_type": "code",
   "execution_count": 84,
   "metadata": {},
   "outputs": [],
   "source": [
    "import numpy as np"
   ]
  },
  {
   "cell_type": "code",
   "execution_count": 85,
   "metadata": {},
   "outputs": [],
   "source": [
    "df=pd.read_csv('F:/imarticus/imarticus machine learning---lms/OLS least square/Dataset/HousePrices.csv')"
   ]
  },
  {
   "cell_type": "code",
   "execution_count": 86,
   "metadata": {},
   "outputs": [
    {
     "data": {
      "text/html": [
       "<div>\n",
       "<style scoped>\n",
       "    .dataframe tbody tr th:only-of-type {\n",
       "        vertical-align: middle;\n",
       "    }\n",
       "\n",
       "    .dataframe tbody tr th {\n",
       "        vertical-align: top;\n",
       "    }\n",
       "\n",
       "    .dataframe thead th {\n",
       "        text-align: right;\n",
       "    }\n",
       "</style>\n",
       "<table border=\"1\" class=\"dataframe\">\n",
       "  <thead>\n",
       "    <tr style=\"text-align: right;\">\n",
       "      <th></th>\n",
       "      <th>Id</th>\n",
       "      <th>Dwell_Type</th>\n",
       "      <th>Zone_Class</th>\n",
       "      <th>LotFrontage</th>\n",
       "      <th>LotArea</th>\n",
       "      <th>Road_Type</th>\n",
       "      <th>Alley</th>\n",
       "      <th>Property_Shape</th>\n",
       "      <th>LandContour</th>\n",
       "      <th>Utilities</th>\n",
       "      <th>...</th>\n",
       "      <th>PoolArea</th>\n",
       "      <th>PoolQC</th>\n",
       "      <th>Fence</th>\n",
       "      <th>MiscFeature</th>\n",
       "      <th>MiscVal</th>\n",
       "      <th>MoSold</th>\n",
       "      <th>YrSold</th>\n",
       "      <th>SaleType</th>\n",
       "      <th>SaleCondition</th>\n",
       "      <th>Property_Sale_Price</th>\n",
       "    </tr>\n",
       "  </thead>\n",
       "  <tbody>\n",
       "    <tr>\n",
       "      <th>0</th>\n",
       "      <td>1</td>\n",
       "      <td>60</td>\n",
       "      <td>RL</td>\n",
       "      <td>65.0</td>\n",
       "      <td>8450</td>\n",
       "      <td>Pave</td>\n",
       "      <td>NaN</td>\n",
       "      <td>Reg</td>\n",
       "      <td>Lvl</td>\n",
       "      <td>AllPub</td>\n",
       "      <td>...</td>\n",
       "      <td>0</td>\n",
       "      <td>NaN</td>\n",
       "      <td>NaN</td>\n",
       "      <td>NaN</td>\n",
       "      <td>0</td>\n",
       "      <td>2</td>\n",
       "      <td>2008</td>\n",
       "      <td>WD</td>\n",
       "      <td>Normal</td>\n",
       "      <td>208500</td>\n",
       "    </tr>\n",
       "    <tr>\n",
       "      <th>1</th>\n",
       "      <td>2</td>\n",
       "      <td>20</td>\n",
       "      <td>RL</td>\n",
       "      <td>80.0</td>\n",
       "      <td>9600</td>\n",
       "      <td>Pave</td>\n",
       "      <td>NaN</td>\n",
       "      <td>Reg</td>\n",
       "      <td>Lvl</td>\n",
       "      <td>AllPub</td>\n",
       "      <td>...</td>\n",
       "      <td>0</td>\n",
       "      <td>NaN</td>\n",
       "      <td>NaN</td>\n",
       "      <td>NaN</td>\n",
       "      <td>0</td>\n",
       "      <td>5</td>\n",
       "      <td>2007</td>\n",
       "      <td>WD</td>\n",
       "      <td>Normal</td>\n",
       "      <td>181500</td>\n",
       "    </tr>\n",
       "    <tr>\n",
       "      <th>2</th>\n",
       "      <td>3</td>\n",
       "      <td>60</td>\n",
       "      <td>RL</td>\n",
       "      <td>68.0</td>\n",
       "      <td>11250</td>\n",
       "      <td>Pave</td>\n",
       "      <td>NaN</td>\n",
       "      <td>IR1</td>\n",
       "      <td>Lvl</td>\n",
       "      <td>AllPub</td>\n",
       "      <td>...</td>\n",
       "      <td>0</td>\n",
       "      <td>NaN</td>\n",
       "      <td>NaN</td>\n",
       "      <td>NaN</td>\n",
       "      <td>0</td>\n",
       "      <td>9</td>\n",
       "      <td>2008</td>\n",
       "      <td>WD</td>\n",
       "      <td>Normal</td>\n",
       "      <td>223500</td>\n",
       "    </tr>\n",
       "    <tr>\n",
       "      <th>3</th>\n",
       "      <td>4</td>\n",
       "      <td>70</td>\n",
       "      <td>RL</td>\n",
       "      <td>60.0</td>\n",
       "      <td>9550</td>\n",
       "      <td>Pave</td>\n",
       "      <td>NaN</td>\n",
       "      <td>IR1</td>\n",
       "      <td>Lvl</td>\n",
       "      <td>AllPub</td>\n",
       "      <td>...</td>\n",
       "      <td>0</td>\n",
       "      <td>NaN</td>\n",
       "      <td>NaN</td>\n",
       "      <td>NaN</td>\n",
       "      <td>0</td>\n",
       "      <td>2</td>\n",
       "      <td>2006</td>\n",
       "      <td>WD</td>\n",
       "      <td>Abnorml</td>\n",
       "      <td>140000</td>\n",
       "    </tr>\n",
       "    <tr>\n",
       "      <th>4</th>\n",
       "      <td>5</td>\n",
       "      <td>60</td>\n",
       "      <td>RL</td>\n",
       "      <td>84.0</td>\n",
       "      <td>14260</td>\n",
       "      <td>Pave</td>\n",
       "      <td>NaN</td>\n",
       "      <td>IR1</td>\n",
       "      <td>Lvl</td>\n",
       "      <td>AllPub</td>\n",
       "      <td>...</td>\n",
       "      <td>0</td>\n",
       "      <td>NaN</td>\n",
       "      <td>NaN</td>\n",
       "      <td>NaN</td>\n",
       "      <td>0</td>\n",
       "      <td>12</td>\n",
       "      <td>2008</td>\n",
       "      <td>WD</td>\n",
       "      <td>Normal</td>\n",
       "      <td>250000</td>\n",
       "    </tr>\n",
       "    <tr>\n",
       "      <th>...</th>\n",
       "      <td>...</td>\n",
       "      <td>...</td>\n",
       "      <td>...</td>\n",
       "      <td>...</td>\n",
       "      <td>...</td>\n",
       "      <td>...</td>\n",
       "      <td>...</td>\n",
       "      <td>...</td>\n",
       "      <td>...</td>\n",
       "      <td>...</td>\n",
       "      <td>...</td>\n",
       "      <td>...</td>\n",
       "      <td>...</td>\n",
       "      <td>...</td>\n",
       "      <td>...</td>\n",
       "      <td>...</td>\n",
       "      <td>...</td>\n",
       "      <td>...</td>\n",
       "      <td>...</td>\n",
       "      <td>...</td>\n",
       "      <td>...</td>\n",
       "    </tr>\n",
       "    <tr>\n",
       "      <th>2068</th>\n",
       "      <td>942</td>\n",
       "      <td>60</td>\n",
       "      <td>RL</td>\n",
       "      <td>NaN</td>\n",
       "      <td>8755</td>\n",
       "      <td>Pave</td>\n",
       "      <td>NaN</td>\n",
       "      <td>IR1</td>\n",
       "      <td>Lvl</td>\n",
       "      <td>AllPub</td>\n",
       "      <td>...</td>\n",
       "      <td>0</td>\n",
       "      <td>NaN</td>\n",
       "      <td>GdPrv</td>\n",
       "      <td>NaN</td>\n",
       "      <td>0</td>\n",
       "      <td>6</td>\n",
       "      <td>2009</td>\n",
       "      <td>WD</td>\n",
       "      <td>Normal</td>\n",
       "      <td>214000</td>\n",
       "    </tr>\n",
       "    <tr>\n",
       "      <th>2069</th>\n",
       "      <td>943</td>\n",
       "      <td>90</td>\n",
       "      <td>RL</td>\n",
       "      <td>63.0</td>\n",
       "      <td>7711</td>\n",
       "      <td>Pave</td>\n",
       "      <td>NaN</td>\n",
       "      <td>IR1</td>\n",
       "      <td>Lvl</td>\n",
       "      <td>AllPub</td>\n",
       "      <td>...</td>\n",
       "      <td>0</td>\n",
       "      <td>NaN</td>\n",
       "      <td>NaN</td>\n",
       "      <td>NaN</td>\n",
       "      <td>0</td>\n",
       "      <td>8</td>\n",
       "      <td>2007</td>\n",
       "      <td>Oth</td>\n",
       "      <td>Abnorml</td>\n",
       "      <td>150000</td>\n",
       "    </tr>\n",
       "    <tr>\n",
       "      <th>2070</th>\n",
       "      <td>944</td>\n",
       "      <td>90</td>\n",
       "      <td>RL</td>\n",
       "      <td>313.0</td>\n",
       "      <td>25000</td>\n",
       "      <td>Pave</td>\n",
       "      <td>NaN</td>\n",
       "      <td>Reg</td>\n",
       "      <td>Low</td>\n",
       "      <td>AllPub</td>\n",
       "      <td>...</td>\n",
       "      <td>0</td>\n",
       "      <td>NaN</td>\n",
       "      <td>NaN</td>\n",
       "      <td>NaN</td>\n",
       "      <td>0</td>\n",
       "      <td>6</td>\n",
       "      <td>2007</td>\n",
       "      <td>WD</td>\n",
       "      <td>Normal</td>\n",
       "      <td>143000</td>\n",
       "    </tr>\n",
       "    <tr>\n",
       "      <th>2071</th>\n",
       "      <td>945</td>\n",
       "      <td>20</td>\n",
       "      <td>RL</td>\n",
       "      <td>52.0</td>\n",
       "      <td>14375</td>\n",
       "      <td>Pave</td>\n",
       "      <td>NaN</td>\n",
       "      <td>IR1</td>\n",
       "      <td>Lvl</td>\n",
       "      <td>NoSeWa</td>\n",
       "      <td>...</td>\n",
       "      <td>0</td>\n",
       "      <td>NaN</td>\n",
       "      <td>NaN</td>\n",
       "      <td>NaN</td>\n",
       "      <td>0</td>\n",
       "      <td>1</td>\n",
       "      <td>2009</td>\n",
       "      <td>COD</td>\n",
       "      <td>Abnorml</td>\n",
       "      <td>137500</td>\n",
       "    </tr>\n",
       "    <tr>\n",
       "      <th>2072</th>\n",
       "      <td>946</td>\n",
       "      <td>50</td>\n",
       "      <td>RM</td>\n",
       "      <td>98.0</td>\n",
       "      <td>8820</td>\n",
       "      <td>Pave</td>\n",
       "      <td>NaN</td>\n",
       "      <td>Reg</td>\n",
       "      <td>Lvl</td>\n",
       "      <td>AllPub</td>\n",
       "      <td>...</td>\n",
       "      <td>0</td>\n",
       "      <td>NaN</td>\n",
       "      <td>MnWw</td>\n",
       "      <td>NaN</td>\n",
       "      <td>0</td>\n",
       "      <td>9</td>\n",
       "      <td>2009</td>\n",
       "      <td>WD</td>\n",
       "      <td>Normal</td>\n",
       "      <td>124900</td>\n",
       "    </tr>\n",
       "  </tbody>\n",
       "</table>\n",
       "<p>2073 rows × 81 columns</p>\n",
       "</div>"
      ],
      "text/plain": [
       "       Id  Dwell_Type Zone_Class  LotFrontage  LotArea Road_Type Alley  \\\n",
       "0       1          60         RL         65.0     8450      Pave   NaN   \n",
       "1       2          20         RL         80.0     9600      Pave   NaN   \n",
       "2       3          60         RL         68.0    11250      Pave   NaN   \n",
       "3       4          70         RL         60.0     9550      Pave   NaN   \n",
       "4       5          60         RL         84.0    14260      Pave   NaN   \n",
       "...   ...         ...        ...          ...      ...       ...   ...   \n",
       "2068  942          60         RL          NaN     8755      Pave   NaN   \n",
       "2069  943          90         RL         63.0     7711      Pave   NaN   \n",
       "2070  944          90         RL        313.0    25000      Pave   NaN   \n",
       "2071  945          20         RL         52.0    14375      Pave   NaN   \n",
       "2072  946          50         RM         98.0     8820      Pave   NaN   \n",
       "\n",
       "     Property_Shape LandContour Utilities  ... PoolArea PoolQC  Fence  \\\n",
       "0               Reg         Lvl    AllPub  ...        0    NaN    NaN   \n",
       "1               Reg         Lvl    AllPub  ...        0    NaN    NaN   \n",
       "2               IR1         Lvl    AllPub  ...        0    NaN    NaN   \n",
       "3               IR1         Lvl    AllPub  ...        0    NaN    NaN   \n",
       "4               IR1         Lvl    AllPub  ...        0    NaN    NaN   \n",
       "...             ...         ...       ...  ...      ...    ...    ...   \n",
       "2068            IR1         Lvl    AllPub  ...        0    NaN  GdPrv   \n",
       "2069            IR1         Lvl    AllPub  ...        0    NaN    NaN   \n",
       "2070            Reg         Low    AllPub  ...        0    NaN    NaN   \n",
       "2071            IR1         Lvl    NoSeWa  ...        0    NaN    NaN   \n",
       "2072            Reg         Lvl    AllPub  ...        0    NaN   MnWw   \n",
       "\n",
       "     MiscFeature MiscVal MoSold YrSold  SaleType  SaleCondition  \\\n",
       "0            NaN       0      2   2008        WD         Normal   \n",
       "1            NaN       0      5   2007        WD         Normal   \n",
       "2            NaN       0      9   2008        WD         Normal   \n",
       "3            NaN       0      2   2006        WD        Abnorml   \n",
       "4            NaN       0     12   2008        WD         Normal   \n",
       "...          ...     ...    ...    ...       ...            ...   \n",
       "2068         NaN       0      6   2009        WD         Normal   \n",
       "2069         NaN       0      8   2007       Oth        Abnorml   \n",
       "2070         NaN       0      6   2007        WD         Normal   \n",
       "2071         NaN       0      1   2009       COD        Abnorml   \n",
       "2072         NaN       0      9   2009        WD         Normal   \n",
       "\n",
       "      Property_Sale_Price  \n",
       "0                  208500  \n",
       "1                  181500  \n",
       "2                  223500  \n",
       "3                  140000  \n",
       "4                  250000  \n",
       "...                   ...  \n",
       "2068               214000  \n",
       "2069               150000  \n",
       "2070               143000  \n",
       "2071               137500  \n",
       "2072               124900  \n",
       "\n",
       "[2073 rows x 81 columns]"
      ]
     },
     "execution_count": 86,
     "metadata": {},
     "output_type": "execute_result"
    }
   ],
   "source": [
    "df"
   ]
  },
  {
   "cell_type": "code",
   "execution_count": 87,
   "metadata": {},
   "outputs": [
    {
     "name": "stdout",
     "output_type": "stream",
     "text": [
      "<class 'pandas.core.frame.DataFrame'>\n",
      "RangeIndex: 2073 entries, 0 to 2072\n",
      "Data columns (total 81 columns):\n",
      " #   Column               Non-Null Count  Dtype  \n",
      "---  ------               --------------  -----  \n",
      " 0   Id                   2073 non-null   int64  \n",
      " 1   Dwell_Type           2073 non-null   int64  \n",
      " 2   Zone_Class           2073 non-null   object \n",
      " 3   LotFrontage          1753 non-null   float64\n",
      " 4   LotArea              2073 non-null   int64  \n",
      " 5   Road_Type            2073 non-null   object \n",
      " 6   Alley                129 non-null    object \n",
      " 7   Property_Shape       2073 non-null   object \n",
      " 8   LandContour          2073 non-null   object \n",
      " 9   Utilities            2073 non-null   object \n",
      " 10  LotConfig            2073 non-null   object \n",
      " 11  LandSlope            2073 non-null   object \n",
      " 12  Neighborhood         2073 non-null   object \n",
      " 13  Condition1           2073 non-null   object \n",
      " 14  Condition2           2073 non-null   object \n",
      " 15  Dwelling_Type        2073 non-null   object \n",
      " 16  HouseStyle           2073 non-null   object \n",
      " 17  OverallQual          2073 non-null   int64  \n",
      " 18  OverallCond          2073 non-null   int64  \n",
      " 19  YearBuilt            2073 non-null   int64  \n",
      " 20  YearRemodAdd         2073 non-null   int64  \n",
      " 21  RoofStyle            2073 non-null   object \n",
      " 22  RoofMatl             2073 non-null   object \n",
      " 23  Exterior1st          2073 non-null   object \n",
      " 24  Exterior2nd          2073 non-null   object \n",
      " 25  MasVnrType           2059 non-null   object \n",
      " 26  MasVnrArea           2059 non-null   float64\n",
      " 27  ExterQual            2073 non-null   object \n",
      " 28  ExterCond            2073 non-null   object \n",
      " 29  Foundation           2073 non-null   object \n",
      " 30  BsmtQual             2014 non-null   object \n",
      " 31  BsmtCond             2014 non-null   object \n",
      " 32  BsmtExposure         2012 non-null   object \n",
      " 33  BsmtFinType1         2014 non-null   object \n",
      " 34  BsmtFinSF1           2073 non-null   int64  \n",
      " 35  BsmtFinType2         2013 non-null   object \n",
      " 36  BsmtFinSF2           2073 non-null   int64  \n",
      " 37  BsmtUnfSF            2073 non-null   int64  \n",
      " 38  TotalBsmtSF          2073 non-null   int64  \n",
      " 39  Heating              2073 non-null   object \n",
      " 40  HeatingQC            2073 non-null   object \n",
      " 41  CentralAir           2073 non-null   object \n",
      " 42  Electrical           2072 non-null   object \n",
      " 43  1stFlrSF             2073 non-null   int64  \n",
      " 44  2ndFlrSF             2073 non-null   int64  \n",
      " 45  LowQualFinSF         2073 non-null   int64  \n",
      " 46  GrLivArea            2073 non-null   int64  \n",
      " 47  BsmtFullBath         2073 non-null   int64  \n",
      " 48  BsmtHalfBath         2073 non-null   int64  \n",
      " 49  FullBath             2073 non-null   int64  \n",
      " 50  HalfBath             2073 non-null   int64  \n",
      " 51  BedroomAbvGr         2073 non-null   int64  \n",
      " 52  KitchenAbvGr         2073 non-null   int64  \n",
      " 53  KitchenQual          2073 non-null   object \n",
      " 54  TotRmsAbvGrd         2073 non-null   int64  \n",
      " 55  Functional           2073 non-null   object \n",
      " 56  Fireplaces           2073 non-null   int64  \n",
      " 57  FireplaceQu          1085 non-null   object \n",
      " 58  GarageType           1960 non-null   object \n",
      " 59  GarageYrBlt          1960 non-null   float64\n",
      " 60  GarageFinish         1960 non-null   object \n",
      " 61  GarageCars           2073 non-null   int64  \n",
      " 62  GarageArea           2073 non-null   int64  \n",
      " 63  GarageQual           1960 non-null   object \n",
      " 64  GarageCond           1960 non-null   object \n",
      " 65  PavedDrive           2073 non-null   object \n",
      " 66  WoodDeckSF           2073 non-null   int64  \n",
      " 67  OpenPorchSF          2073 non-null   int64  \n",
      " 68  EnclosedPorch        2073 non-null   int64  \n",
      " 69  3SsnPorch            2073 non-null   int64  \n",
      " 70  ScreenPorch          2073 non-null   int64  \n",
      " 71  PoolArea             2073 non-null   int64  \n",
      " 72  PoolQC               8 non-null      object \n",
      " 73  Fence                404 non-null    object \n",
      " 74  MiscFeature          80 non-null     object \n",
      " 75  MiscVal              2073 non-null   int64  \n",
      " 76  MoSold               2073 non-null   int64  \n",
      " 77  YrSold               2073 non-null   int64  \n",
      " 78  SaleType             2073 non-null   object \n",
      " 79  SaleCondition        2073 non-null   object \n",
      " 80  Property_Sale_Price  2073 non-null   int64  \n",
      "dtypes: float64(3), int64(35), object(43)\n",
      "memory usage: 1.3+ MB\n"
     ]
    }
   ],
   "source": [
    "df.info()"
   ]
  },
  {
   "cell_type": "code",
   "execution_count": 88,
   "metadata": {},
   "outputs": [
    {
     "data": {
      "text/plain": [
       "Id                       0\n",
       "Dwell_Type               0\n",
       "Zone_Class               0\n",
       "LotFrontage            320\n",
       "LotArea                  0\n",
       "                      ... \n",
       "MoSold                   0\n",
       "YrSold                   0\n",
       "SaleType                 0\n",
       "SaleCondition            0\n",
       "Property_Sale_Price      0\n",
       "Length: 81, dtype: int64"
      ]
     },
     "execution_count": 88,
     "metadata": {},
     "output_type": "execute_result"
    }
   ],
   "source": [
    "df.isnull().sum()"
   ]
  },
  {
   "cell_type": "code",
   "execution_count": 89,
   "metadata": {},
   "outputs": [
    {
     "data": {
      "text/plain": [
       "(2073, 81)"
      ]
     },
     "execution_count": 89,
     "metadata": {},
     "output_type": "execute_result"
    }
   ],
   "source": [
    "df.shape"
   ]
  },
  {
   "cell_type": "code",
   "execution_count": 90,
   "metadata": {},
   "outputs": [
    {
     "name": "stdout",
     "output_type": "stream",
     "text": [
      "Number of Numerical features:  38\n",
      "Index(['Id', 'Dwell_Type', 'LotFrontage', 'LotArea', 'OverallQual',\n",
      "       'OverallCond', 'YearBuilt', 'YearRemodAdd', 'MasVnrArea', 'BsmtFinSF1',\n",
      "       'BsmtFinSF2', 'BsmtUnfSF', 'TotalBsmtSF', '1stFlrSF', '2ndFlrSF',\n",
      "       'LowQualFinSF', 'GrLivArea', 'BsmtFullBath', 'BsmtHalfBath', 'FullBath',\n",
      "       'HalfBath', 'BedroomAbvGr', 'KitchenAbvGr', 'TotRmsAbvGrd',\n",
      "       'Fireplaces', 'GarageYrBlt', 'GarageCars', 'GarageArea', 'WoodDeckSF',\n",
      "       'OpenPorchSF', 'EnclosedPorch', '3SsnPorch', 'ScreenPorch', 'PoolArea',\n",
      "       'MiscVal', 'MoSold', 'YrSold', 'Property_Sale_Price'],\n",
      "      dtype='object')\n",
      "Number of Categorical features:  43\n",
      "Index(['Zone_Class', 'Road_Type', 'Alley', 'Property_Shape', 'LandContour',\n",
      "       'Utilities', 'LotConfig', 'LandSlope', 'Neighborhood', 'Condition1',\n",
      "       'Condition2', 'Dwelling_Type', 'HouseStyle', 'RoofStyle', 'RoofMatl',\n",
      "       'Exterior1st', 'Exterior2nd', 'MasVnrType', 'ExterQual', 'ExterCond',\n",
      "       'Foundation', 'BsmtQual', 'BsmtCond', 'BsmtExposure', 'BsmtFinType1',\n",
      "       'BsmtFinType2', 'Heating', 'HeatingQC', 'CentralAir', 'Electrical',\n",
      "       'KitchenQual', 'Functional', 'FireplaceQu', 'GarageType',\n",
      "       'GarageFinish', 'GarageQual', 'GarageCond', 'PavedDrive', 'PoolQC',\n",
      "       'Fence', 'MiscFeature', 'SaleType', 'SaleCondition'],\n",
      "      dtype='object')\n"
     ]
    }
   ],
   "source": [
    "numerical_features = df.dtypes[df.dtypes != \"object\"].index\n",
    "print(\"Number of Numerical features: \", len(numerical_features))\n",
    "print(numerical_features)\n",
    "# Pulling out names of categorical variables by conditioning dtypes equal to object type\n",
    "categorical_features = df.dtypes[df.dtypes == \"object\"].index\n",
    "print(\"Number of Categorical features: \", len(categorical_features))\n",
    "print(categorical_features)"
   ]
  },
  {
   "cell_type": "markdown",
   "metadata": {},
   "source": [
    "# replaced nan in categorical feature with none"
   ]
  },
  {
   "cell_type": "code",
   "execution_count": 91,
   "metadata": {},
   "outputs": [],
   "source": [
    "for i in categorical_features:\n",
    "    df[i].fillna('none',inplace=True)"
   ]
  },
  {
   "cell_type": "markdown",
   "metadata": {},
   "source": [
    "# replaced nan in numerical feature with median"
   ]
  },
  {
   "cell_type": "code",
   "execution_count": 92,
   "metadata": {},
   "outputs": [],
   "source": [
    "for i in numerical_features:\n",
    "    df[i].fillna(df[i].median(axis=0), inplace=True)"
   ]
  },
  {
   "cell_type": "code",
   "execution_count": 93,
   "metadata": {},
   "outputs": [],
   "source": [
    "import seaborn as sns"
   ]
  },
  {
   "cell_type": "code",
   "execution_count": 94,
   "metadata": {},
   "outputs": [],
   "source": [
    "import matplotlib.pyplot as plt"
   ]
  },
  {
   "cell_type": "markdown",
   "metadata": {},
   "source": [
    "# box plot to see outliers"
   ]
  },
  {
   "cell_type": "code",
   "execution_count": 95,
   "metadata": {
    "scrolled": false
   },
   "outputs": [
    {
     "data": {
      "text/plain": [
       "<AxesSubplot:>"
      ]
     },
     "execution_count": 95,
     "metadata": {},
     "output_type": "execute_result"
    },
    {
     "data": {
      "image/png": "[encoded data removed]",
      "text/plain": [
       "<Figure size 2160x2160 with 1 Axes>"
      ]
     },
     "metadata": {
      "needs_background": "light"
     },
     "output_type": "display_data"
    }
   ],
   "source": [
    "fig=plt.figure(figsize=(30,30))\n",
    "sns.boxplot(data=df[['Id', 'Dwell_Type', 'LotFrontage', 'LotArea', 'OverallQual',\n",
    "       'OverallCond','YearBuilt','YearRemodAdd','MasVnrArea','BsmtFinSF1']])"
   ]
  },
  {
   "cell_type": "markdown",
   "metadata": {},
   "source": [
    "# outliers removing"
   ]
  },
  {
   "cell_type": "code",
   "execution_count": 96,
   "metadata": {
    "scrolled": true
   },
   "outputs": [
    {
     "name": "stdout",
     "output_type": "stream",
     "text": [
      "Old Shape:  (2073, 81)\n",
      "New Shape:  (1937, 81)\n"
     ]
    }
   ],
   "source": [
    "import sklearn\n",
    "import pandas as pd\n",
    "  \n",
    "''' Detection '''\n",
    "# IQR\n",
    "Q1 = np.percentile(df['LotArea'], 25, \n",
    "                   interpolation = 'midpoint') \n",
    "  \n",
    "Q3 = np.percentile(df['LotArea'], 75,\n",
    "                   interpolation = 'midpoint') \n",
    "IQR = Q3 - Q1 \n",
    "  \n",
    "print(\"Old Shape: \", df.shape) \n",
    "  \n",
    "# Upper bound\n",
    "upper = np.where(df['LotArea'] >= (Q3+1.5*IQR))\n",
    "# Lower bound\n",
    "lower = np.where(df['LotArea'] <= (Q1-1.5*IQR))\n",
    "  \n",
    "''' Removing the Outliers '''\n",
    "df.drop(upper[0], inplace = True)\n",
    "df.drop(lower[0], inplace = True)\n",
    "  \n",
    "print(\"New Shape: \", df.shape) "
   ]
  },
  {
   "cell_type": "code",
   "execution_count": 97,
   "metadata": {},
   "outputs": [
    {
     "data": {
      "text/plain": [
       "(1937, 81)"
      ]
     },
     "execution_count": 97,
     "metadata": {},
     "output_type": "execute_result"
    }
   ],
   "source": [
    "df.shape"
   ]
  },
  {
   "cell_type": "markdown",
   "metadata": {},
   "source": [
    "# dataframe reset"
   ]
  },
  {
   "cell_type": "code",
   "execution_count": 98,
   "metadata": {},
   "outputs": [],
   "source": [
    "df.reset_index(drop=True,inplace=True)"
   ]
  },
  {
   "cell_type": "markdown",
   "metadata": {},
   "source": [
    "# boxplot to see outliers"
   ]
  },
  {
   "cell_type": "code",
   "execution_count": 99,
   "metadata": {},
   "outputs": [
    {
     "data": {
      "text/plain": [
       "<AxesSubplot:>"
      ]
     },
     "execution_count": 99,
     "metadata": {},
     "output_type": "execute_result"
    },
    {
     "data": {
      "image/png": "[encoded data removed]",
      "text/plain": [
       "<Figure size 2160x2160 with 1 Axes>"
      ]
     },
     "metadata": {
      "needs_background": "light"
     },
     "output_type": "display_data"
    }
   ],
   "source": [
    "fig=plt.figure(figsize=(30,30))\n",
    "sns.boxplot(data=df[['BsmtFinSF2', 'BsmtUnfSF', 'TotalBsmtSF', '1stFlrSF', '2ndFlrSF',\n",
    "       'LowQualFinSF', 'GrLivArea', 'BsmtFullBath', 'BsmtHalfBath', 'FullBath']])"
   ]
  },
  {
   "cell_type": "markdown",
   "metadata": {},
   "source": [
    "# outliers removing"
   ]
  },
  {
   "cell_type": "code",
   "execution_count": 100,
   "metadata": {},
   "outputs": [
    {
     "name": "stdout",
     "output_type": "stream",
     "text": [
      "Old Shape:  (1937, 81)\n",
      "New Shape:  (1910, 81)\n"
     ]
    }
   ],
   "source": [
    "import sklearn\n",
    "import pandas as pd\n",
    "  \n",
    "''' Detection '''\n",
    "# IQR\n",
    "Q1 = np.percentile(df[['BsmtFinSF2', 'BsmtUnfSF', 'TotalBsmtSF', '1stFlrSF', '2ndFlrSF',\n",
    "       'LowQualFinSF', 'GrLivArea']], 25, \n",
    "                   interpolation = 'midpoint') \n",
    "  \n",
    "Q3 = np.percentile(df[['BsmtFinSF2', 'BsmtUnfSF', 'TotalBsmtSF', '1stFlrSF', '2ndFlrSF',\n",
    "       'LowQualFinSF', 'GrLivArea']], 75,\n",
    "                   interpolation = 'midpoint') \n",
    "IQR = Q3 - Q1 \n",
    "  \n",
    "print(\"Old Shape: \", df.shape) \n",
    "  \n",
    "# Upper bound\n",
    "upper = np.where(df[['BsmtFinSF2', 'BsmtUnfSF', 'TotalBsmtSF', '1stFlrSF', '2ndFlrSF',\n",
    "       'LowQualFinSF', 'GrLivArea']] >= (Q3+1.5*IQR))\n",
    "# Lower bound\n",
    "lower = np.where(df[['BsmtFinSF2', 'BsmtUnfSF', 'TotalBsmtSF', '1stFlrSF', '2ndFlrSF',\n",
    "       'LowQualFinSF', 'GrLivArea']] <= (Q1-1.5*IQR))\n",
    "  \n",
    "''' Removing the Outliers '''\n",
    "df.drop(upper[0], inplace = True)\n",
    "df.drop(lower[0], inplace = True)\n",
    "  \n",
    "print(\"New Shape: \", df.shape) "
   ]
  },
  {
   "cell_type": "markdown",
   "metadata": {},
   "source": [
    "# dataframe reset"
   ]
  },
  {
   "cell_type": "code",
   "execution_count": 101,
   "metadata": {},
   "outputs": [],
   "source": [
    "df.reset_index(drop=True,inplace=True)"
   ]
  },
  {
   "cell_type": "markdown",
   "metadata": {},
   "source": [
    "# boxplot to see outliers"
   ]
  },
  {
   "cell_type": "code",
   "execution_count": 102,
   "metadata": {},
   "outputs": [
    {
     "data": {
      "text/plain": [
       "<AxesSubplot:>"
      ]
     },
     "execution_count": 102,
     "metadata": {},
     "output_type": "execute_result"
    },
    {
     "data": {
      "image/png": "[encoded data removed]",
      "text/plain": [
       "<Figure size 2160x2160 with 1 Axes>"
      ]
     },
     "metadata": {
      "needs_background": "light"
     },
     "output_type": "display_data"
    }
   ],
   "source": [
    "fig=plt.figure(figsize=(30,30))\n",
    "sns.boxplot(data=df[['HalfBath', 'BedroomAbvGr', 'KitchenAbvGr', 'TotRmsAbvGrd',\n",
    "       'Fireplaces', 'GarageYrBlt', 'GarageCars', 'GarageArea', 'WoodDeckSF']])"
   ]
  },
  {
   "cell_type": "markdown",
   "metadata": {},
   "source": [
    "# outliers removing"
   ]
  },
  {
   "cell_type": "code",
   "execution_count": 103,
   "metadata": {},
   "outputs": [
    {
     "name": "stdout",
     "output_type": "stream",
     "text": [
      "Old Shape:  (1910, 81)\n",
      "New Shape:  (1908, 81)\n"
     ]
    }
   ],
   "source": [
    "import sklearn\n",
    "import pandas as pd\n",
    "  \n",
    "''' Detection '''\n",
    "# IQR\n",
    "Q1 = np.percentile(df[['GarageArea', 'WoodDeckSF']], 25, \n",
    "                   interpolation = 'midpoint') \n",
    "  \n",
    "Q3 = np.percentile(df[['GarageArea', 'WoodDeckSF']], 75,\n",
    "                   interpolation = 'midpoint') \n",
    "IQR = Q3 - Q1 \n",
    "  \n",
    "print(\"Old Shape: \", df.shape) \n",
    "  \n",
    "# Upper bound\n",
    "upper = np.where(df[['GarageArea', 'WoodDeckSF']] >= (Q3+1.5*IQR))\n",
    "# Lower bound\n",
    "lower = np.where(df[['GarageArea', 'WoodDeckSF']] <= (Q1-1.5*IQR))\n",
    "  \n",
    "''' Removing the Outliers '''\n",
    "df.drop(upper[0], inplace = True)\n",
    "df.drop(lower[0], inplace = True)\n",
    "  \n",
    "print(\"New Shape: \", df.shape) "
   ]
  },
  {
   "cell_type": "markdown",
   "metadata": {},
   "source": [
    "# dataframe reset"
   ]
  },
  {
   "cell_type": "code",
   "execution_count": 104,
   "metadata": {},
   "outputs": [],
   "source": [
    "df.reset_index(drop=True,inplace=True)"
   ]
  },
  {
   "cell_type": "markdown",
   "metadata": {},
   "source": [
    "# boxplot to see outliers"
   ]
  },
  {
   "cell_type": "code",
   "execution_count": 105,
   "metadata": {},
   "outputs": [
    {
     "data": {
      "text/plain": [
       "<AxesSubplot:>"
      ]
     },
     "execution_count": 105,
     "metadata": {},
     "output_type": "execute_result"
    },
    {
     "data": {
      "image/png": "[encoded data removed]",
      "text/plain": [
       "<Figure size 2160x2160 with 1 Axes>"
      ]
     },
     "metadata": {
      "needs_background": "light"
     },
     "output_type": "display_data"
    }
   ],
   "source": [
    "fig=plt.figure(figsize=(30,30))\n",
    "sns.boxplot(data=df[['OpenPorchSF', 'EnclosedPorch', '3SsnPorch', 'ScreenPorch', 'PoolArea',\n",
    "       'MiscVal', 'MoSold', 'YrSold', 'Property_Sale_Price']])"
   ]
  },
  {
   "cell_type": "markdown",
   "metadata": {},
   "source": [
    "# outliers removing"
   ]
  },
  {
   "cell_type": "code",
   "execution_count": 106,
   "metadata": {},
   "outputs": [
    {
     "name": "stdout",
     "output_type": "stream",
     "text": [
      "Old Shape:  (1908, 81)\n",
      "New Shape:  (1896, 81)\n"
     ]
    }
   ],
   "source": [
    "import sklearn\n",
    "import pandas as pd\n",
    "  \n",
    "''' Detection '''\n",
    "# IQR\n",
    "Q1 = np.percentile(df[[ 'MiscVal','Property_Sale_Price']], 25, \n",
    "                   interpolation = 'midpoint') \n",
    "  \n",
    "Q3 = np.percentile(df[[ 'MiscVal','Property_Sale_Price']], 75,\n",
    "                   interpolation = 'midpoint') \n",
    "IQR = Q3 - Q1 \n",
    "  \n",
    "print(\"Old Shape: \", df.shape) \n",
    "  \n",
    "# Upper bound\n",
    "upper = np.where(df[[ 'MiscVal','Property_Sale_Price']] >= (Q3+1.5*IQR))\n",
    "# Lower bound\n",
    "lower = np.where(df[[ 'MiscVal','Property_Sale_Price']] <= (Q1-1.5*IQR))\n",
    "  \n",
    "''' Removing the Outliers '''\n",
    "df.drop(upper[0], inplace = True)\n",
    "df.drop(lower[0], inplace = True)\n",
    "  \n",
    "print(\"New Shape: \", df.shape) "
   ]
  },
  {
   "cell_type": "code",
   "execution_count": 107,
   "metadata": {},
   "outputs": [
    {
     "data": {
      "text/plain": [
       "(1896, 81)"
      ]
     },
     "execution_count": 107,
     "metadata": {},
     "output_type": "execute_result"
    }
   ],
   "source": [
    "df.shape"
   ]
  },
  {
   "cell_type": "markdown",
   "metadata": {},
   "source": [
    "# numerical features"
   ]
  },
  {
   "cell_type": "code",
   "execution_count": 108,
   "metadata": {},
   "outputs": [],
   "source": [
    "num=df.select_dtypes(exclude='object')"
   ]
  },
  {
   "cell_type": "code",
   "execution_count": 109,
   "metadata": {},
   "outputs": [
    {
     "data": {
      "text/plain": [
       "(1896, 38)"
      ]
     },
     "execution_count": 109,
     "metadata": {},
     "output_type": "execute_result"
    }
   ],
   "source": [
    "num.shape"
   ]
  },
  {
   "cell_type": "markdown",
   "metadata": {},
   "source": [
    "# categorical features"
   ]
  },
  {
   "cell_type": "code",
   "execution_count": 110,
   "metadata": {},
   "outputs": [],
   "source": [
    "cat=df.select_dtypes(include='object')"
   ]
  },
  {
   "cell_type": "code",
   "execution_count": 111,
   "metadata": {},
   "outputs": [
    {
     "data": {
      "text/plain": [
       "(1896, 43)"
      ]
     },
     "execution_count": 111,
     "metadata": {},
     "output_type": "execute_result"
    }
   ],
   "source": [
    "cat.shape"
   ]
  },
  {
   "cell_type": "markdown",
   "metadata": {},
   "source": [
    "# converted categorical features to dummy variable"
   ]
  },
  {
   "cell_type": "code",
   "execution_count": 112,
   "metadata": {},
   "outputs": [],
   "source": [
    "cat_dummy=pd.get_dummies(cat)"
   ]
  },
  {
   "cell_type": "code",
   "execution_count": 113,
   "metadata": {},
   "outputs": [
    {
     "data": {
      "text/plain": [
       "(1896, 260)"
      ]
     },
     "execution_count": 113,
     "metadata": {},
     "output_type": "execute_result"
    }
   ],
   "source": [
    "cat_dummy.shape"
   ]
  },
  {
   "cell_type": "markdown",
   "metadata": {},
   "source": [
    "# concatenate numerical and dummy variables"
   ]
  },
  {
   "cell_type": "code",
   "execution_count": 114,
   "metadata": {},
   "outputs": [],
   "source": [
    "df_concat=pd.concat([num,cat_dummy],axis=1)"
   ]
  },
  {
   "cell_type": "code",
   "execution_count": 115,
   "metadata": {},
   "outputs": [
    {
     "data": {
      "text/plain": [
       "(1896, 298)"
      ]
     },
     "execution_count": 115,
     "metadata": {},
     "output_type": "execute_result"
    }
   ],
   "source": [
    "df_concat.shape"
   ]
  },
  {
   "cell_type": "markdown",
   "metadata": {},
   "source": [
    "# defining x and y"
   ]
  },
  {
   "cell_type": "code",
   "execution_count": 116,
   "metadata": {},
   "outputs": [],
   "source": [
    "x=df_concat.drop(['Property_Sale_Price'],axis=1)"
   ]
  },
  {
   "cell_type": "code",
   "execution_count": 117,
   "metadata": {},
   "outputs": [],
   "source": [
    "y=df.Property_Sale_Price"
   ]
  },
  {
   "cell_type": "markdown",
   "metadata": {},
   "source": [
    "# train test split"
   ]
  },
  {
   "cell_type": "code",
   "execution_count": 118,
   "metadata": {},
   "outputs": [],
   "source": [
    "from sklearn.model_selection import train_test_split"
   ]
  },
  {
   "cell_type": "code",
   "execution_count": 119,
   "metadata": {},
   "outputs": [
    {
     "data": {
      "text/plain": [
       "((1327, 297), (569, 297), (1327,), (569,))"
      ]
     },
     "execution_count": 119,
     "metadata": {},
     "output_type": "execute_result"
    }
   ],
   "source": [
    "x_train,x_test,y_train,y_test=train_test_split(x,y,test_size=0.3,random_state=100)\n",
    "x_train.shape,x_test.shape,y_train.shape,y_test.shape"
   ]
  },
  {
   "cell_type": "code",
   "execution_count": 120,
   "metadata": {},
   "outputs": [
    {
     "name": "stdout",
     "output_type": "stream",
     "text": [
      "number of test sample: 569\n",
      "number of training sample: 1327\n"
     ]
    }
   ],
   "source": [
    "print('number of test sample:',x_test.shape[0])\n",
    "print('number of training sample:',x_train.shape[0])"
   ]
  },
  {
   "cell_type": "markdown",
   "metadata": {},
   "source": [
    "# feature selection using correlation coefficient"
   ]
  },
  {
   "cell_type": "code",
   "execution_count": 121,
   "metadata": {},
   "outputs": [],
   "source": [
    "def correlation(dataset, threshold):\n",
    "    col_corr = set()\n",
    "    corr_matrix = dataset.corr()\n",
    "    for i in range(len(corr_matrix.columns)):\n",
    "        for j in range(i):\n",
    "            if abs(corr_matrix.iloc[i,j])>threshold:\n",
    "                colname = corr_matrix.columns[i]\n",
    "                col_corr.add(colname)\n",
    "\n",
    "    return col_corr"
   ]
  },
  {
   "cell_type": "code",
   "execution_count": 122,
   "metadata": {},
   "outputs": [
    {
     "data": {
      "text/plain": [
       "31"
      ]
     },
     "execution_count": 122,
     "metadata": {},
     "output_type": "execute_result"
    }
   ],
   "source": [
    "corr_features = correlation(x_train,0.85)\n",
    "len(set(corr_features))"
   ]
  },
  {
   "cell_type": "markdown",
   "metadata": {},
   "source": [
    "# independent variable with high correlation between them"
   ]
  },
  {
   "cell_type": "code",
   "execution_count": 123,
   "metadata": {},
   "outputs": [
    {
     "data": {
      "text/plain": [
       "{'BsmtCond_none',\n",
       " 'BsmtExposure_none',\n",
       " 'BsmtFinType1_none',\n",
       " 'BsmtFinType2_none',\n",
       " 'CentralAir_Y',\n",
       " 'Electrical_Mix',\n",
       " 'ExterCond_TA',\n",
       " 'ExterQual_TA',\n",
       " 'Exterior2nd_CBlock',\n",
       " 'Exterior2nd_CmentBd',\n",
       " 'Exterior2nd_HdBoard',\n",
       " 'Exterior2nd_MetalSd',\n",
       " 'Exterior2nd_VinylSd',\n",
       " 'Exterior2nd_Wd Sdng',\n",
       " 'FireplaceQu_none',\n",
       " 'GarageArea',\n",
       " 'GarageCond_Ex',\n",
       " 'GarageCond_none',\n",
       " 'GarageFinish_none',\n",
       " 'GarageQual_none',\n",
       " 'LandSlope_Mod',\n",
       " 'MiscFeature_Gar2',\n",
       " 'MiscFeature_TenC',\n",
       " 'MiscFeature_none',\n",
       " 'PoolQC_none',\n",
       " 'Property_Shape_Reg',\n",
       " 'Road_Type_Pave',\n",
       " 'RoofMatl_Tar&Grv',\n",
       " 'RoofStyle_Hip',\n",
       " 'SaleCondition_Partial',\n",
       " 'Utilities_NoSeWa'}"
      ]
     },
     "execution_count": 123,
     "metadata": {},
     "output_type": "execute_result"
    }
   ],
   "source": [
    "corr_features"
   ]
  },
  {
   "cell_type": "markdown",
   "metadata": {},
   "source": [
    "# making copy"
   ]
  },
  {
   "cell_type": "code",
   "execution_count": 124,
   "metadata": {},
   "outputs": [],
   "source": [
    "import copy"
   ]
  },
  {
   "cell_type": "code",
   "execution_count": 125,
   "metadata": {},
   "outputs": [],
   "source": [
    "x1_train=copy.copy(x_train)\n",
    "y1_train=copy.copy(y_train)\n",
    "x1_test=copy.copy(x_test)\n",
    "y1_test=copy.copy(y_test)"
   ]
  },
  {
   "cell_type": "markdown",
   "metadata": {},
   "source": [
    "# droping the independent variable with high correlation between them"
   ]
  },
  {
   "cell_type": "code",
   "execution_count": 126,
   "metadata": {},
   "outputs": [
    {
     "data": {
      "text/html": [
       "<div>\n",
       "<style scoped>\n",
       "    .dataframe tbody tr th:only-of-type {\n",
       "        vertical-align: middle;\n",
       "    }\n",
       "\n",
       "    .dataframe tbody tr th {\n",
       "        vertical-align: top;\n",
       "    }\n",
       "\n",
       "    .dataframe thead th {\n",
       "        text-align: right;\n",
       "    }\n",
       "</style>\n",
       "<table border=\"1\" class=\"dataframe\">\n",
       "  <thead>\n",
       "    <tr style=\"text-align: right;\">\n",
       "      <th></th>\n",
       "      <th>Id</th>\n",
       "      <th>Dwell_Type</th>\n",
       "      <th>LotFrontage</th>\n",
       "      <th>LotArea</th>\n",
       "      <th>OverallQual</th>\n",
       "      <th>OverallCond</th>\n",
       "      <th>YearBuilt</th>\n",
       "      <th>YearRemodAdd</th>\n",
       "      <th>MasVnrArea</th>\n",
       "      <th>BsmtFinSF1</th>\n",
       "      <th>...</th>\n",
       "      <th>SaleType_ConLI</th>\n",
       "      <th>SaleType_ConLw</th>\n",
       "      <th>SaleType_New</th>\n",
       "      <th>SaleType_Oth</th>\n",
       "      <th>SaleType_WD</th>\n",
       "      <th>SaleCondition_Abnorml</th>\n",
       "      <th>SaleCondition_AdjLand</th>\n",
       "      <th>SaleCondition_Alloca</th>\n",
       "      <th>SaleCondition_Family</th>\n",
       "      <th>SaleCondition_Normal</th>\n",
       "    </tr>\n",
       "  </thead>\n",
       "  <tbody>\n",
       "    <tr>\n",
       "      <th>567</th>\n",
       "      <td>606</td>\n",
       "      <td>60</td>\n",
       "      <td>85.0</td>\n",
       "      <td>13600</td>\n",
       "      <td>7</td>\n",
       "      <td>6</td>\n",
       "      <td>1965</td>\n",
       "      <td>1990</td>\n",
       "      <td>176.0</td>\n",
       "      <td>454</td>\n",
       "      <td>...</td>\n",
       "      <td>0</td>\n",
       "      <td>0</td>\n",
       "      <td>0</td>\n",
       "      <td>0</td>\n",
       "      <td>1</td>\n",
       "      <td>0</td>\n",
       "      <td>0</td>\n",
       "      <td>0</td>\n",
       "      <td>0</td>\n",
       "      <td>1</td>\n",
       "    </tr>\n",
       "    <tr>\n",
       "      <th>1756</th>\n",
       "      <td>953</td>\n",
       "      <td>85</td>\n",
       "      <td>60.0</td>\n",
       "      <td>7200</td>\n",
       "      <td>4</td>\n",
       "      <td>6</td>\n",
       "      <td>1983</td>\n",
       "      <td>2003</td>\n",
       "      <td>0.0</td>\n",
       "      <td>660</td>\n",
       "      <td>...</td>\n",
       "      <td>0</td>\n",
       "      <td>0</td>\n",
       "      <td>0</td>\n",
       "      <td>0</td>\n",
       "      <td>1</td>\n",
       "      <td>0</td>\n",
       "      <td>0</td>\n",
       "      <td>0</td>\n",
       "      <td>0</td>\n",
       "      <td>1</td>\n",
       "    </tr>\n",
       "    <tr>\n",
       "      <th>1097</th>\n",
       "      <td>1175</td>\n",
       "      <td>70</td>\n",
       "      <td>80.0</td>\n",
       "      <td>16560</td>\n",
       "      <td>6</td>\n",
       "      <td>8</td>\n",
       "      <td>1932</td>\n",
       "      <td>1950</td>\n",
       "      <td>0.0</td>\n",
       "      <td>503</td>\n",
       "      <td>...</td>\n",
       "      <td>0</td>\n",
       "      <td>0</td>\n",
       "      <td>0</td>\n",
       "      <td>0</td>\n",
       "      <td>1</td>\n",
       "      <td>0</td>\n",
       "      <td>0</td>\n",
       "      <td>0</td>\n",
       "      <td>0</td>\n",
       "      <td>1</td>\n",
       "    </tr>\n",
       "    <tr>\n",
       "      <th>649</th>\n",
       "      <td>696</td>\n",
       "      <td>20</td>\n",
       "      <td>54.0</td>\n",
       "      <td>13811</td>\n",
       "      <td>6</td>\n",
       "      <td>6</td>\n",
       "      <td>1987</td>\n",
       "      <td>1987</td>\n",
       "      <td>32.0</td>\n",
       "      <td>980</td>\n",
       "      <td>...</td>\n",
       "      <td>0</td>\n",
       "      <td>0</td>\n",
       "      <td>0</td>\n",
       "      <td>0</td>\n",
       "      <td>1</td>\n",
       "      <td>0</td>\n",
       "      <td>0</td>\n",
       "      <td>0</td>\n",
       "      <td>0</td>\n",
       "      <td>1</td>\n",
       "    </tr>\n",
       "    <tr>\n",
       "      <th>324</th>\n",
       "      <td>345</td>\n",
       "      <td>160</td>\n",
       "      <td>36.0</td>\n",
       "      <td>2592</td>\n",
       "      <td>5</td>\n",
       "      <td>3</td>\n",
       "      <td>1976</td>\n",
       "      <td>1976</td>\n",
       "      <td>0.0</td>\n",
       "      <td>129</td>\n",
       "      <td>...</td>\n",
       "      <td>0</td>\n",
       "      <td>0</td>\n",
       "      <td>0</td>\n",
       "      <td>0</td>\n",
       "      <td>1</td>\n",
       "      <td>0</td>\n",
       "      <td>0</td>\n",
       "      <td>0</td>\n",
       "      <td>0</td>\n",
       "      <td>1</td>\n",
       "    </tr>\n",
       "    <tr>\n",
       "      <th>...</th>\n",
       "      <td>...</td>\n",
       "      <td>...</td>\n",
       "      <td>...</td>\n",
       "      <td>...</td>\n",
       "      <td>...</td>\n",
       "      <td>...</td>\n",
       "      <td>...</td>\n",
       "      <td>...</td>\n",
       "      <td>...</td>\n",
       "      <td>...</td>\n",
       "      <td>...</td>\n",
       "      <td>...</td>\n",
       "      <td>...</td>\n",
       "      <td>...</td>\n",
       "      <td>...</td>\n",
       "      <td>...</td>\n",
       "      <td>...</td>\n",
       "      <td>...</td>\n",
       "      <td>...</td>\n",
       "      <td>...</td>\n",
       "      <td>...</td>\n",
       "    </tr>\n",
       "    <tr>\n",
       "      <th>204</th>\n",
       "      <td>216</td>\n",
       "      <td>20</td>\n",
       "      <td>72.0</td>\n",
       "      <td>10011</td>\n",
       "      <td>5</td>\n",
       "      <td>6</td>\n",
       "      <td>1957</td>\n",
       "      <td>1996</td>\n",
       "      <td>26.0</td>\n",
       "      <td>360</td>\n",
       "      <td>...</td>\n",
       "      <td>0</td>\n",
       "      <td>0</td>\n",
       "      <td>0</td>\n",
       "      <td>0</td>\n",
       "      <td>1</td>\n",
       "      <td>0</td>\n",
       "      <td>0</td>\n",
       "      <td>0</td>\n",
       "      <td>0</td>\n",
       "      <td>1</td>\n",
       "    </tr>\n",
       "    <tr>\n",
       "      <th>485</th>\n",
       "      <td>518</td>\n",
       "      <td>60</td>\n",
       "      <td>79.0</td>\n",
       "      <td>10208</td>\n",
       "      <td>7</td>\n",
       "      <td>5</td>\n",
       "      <td>1996</td>\n",
       "      <td>1997</td>\n",
       "      <td>921.0</td>\n",
       "      <td>0</td>\n",
       "      <td>...</td>\n",
       "      <td>0</td>\n",
       "      <td>0</td>\n",
       "      <td>0</td>\n",
       "      <td>0</td>\n",
       "      <td>1</td>\n",
       "      <td>0</td>\n",
       "      <td>0</td>\n",
       "      <td>0</td>\n",
       "      <td>0</td>\n",
       "      <td>1</td>\n",
       "    </tr>\n",
       "    <tr>\n",
       "      <th>1785</th>\n",
       "      <td>983</td>\n",
       "      <td>20</td>\n",
       "      <td>43.0</td>\n",
       "      <td>3182</td>\n",
       "      <td>7</td>\n",
       "      <td>4</td>\n",
       "      <td>2007</td>\n",
       "      <td>2007</td>\n",
       "      <td>78.0</td>\n",
       "      <td>0</td>\n",
       "      <td>...</td>\n",
       "      <td>0</td>\n",
       "      <td>0</td>\n",
       "      <td>0</td>\n",
       "      <td>0</td>\n",
       "      <td>1</td>\n",
       "      <td>0</td>\n",
       "      <td>0</td>\n",
       "      <td>0</td>\n",
       "      <td>0</td>\n",
       "      <td>1</td>\n",
       "    </tr>\n",
       "    <tr>\n",
       "      <th>731</th>\n",
       "      <td>781</td>\n",
       "      <td>20</td>\n",
       "      <td>63.0</td>\n",
       "      <td>7875</td>\n",
       "      <td>7</td>\n",
       "      <td>5</td>\n",
       "      <td>1995</td>\n",
       "      <td>1996</td>\n",
       "      <td>41.0</td>\n",
       "      <td>0</td>\n",
       "      <td>...</td>\n",
       "      <td>0</td>\n",
       "      <td>0</td>\n",
       "      <td>0</td>\n",
       "      <td>0</td>\n",
       "      <td>1</td>\n",
       "      <td>0</td>\n",
       "      <td>0</td>\n",
       "      <td>0</td>\n",
       "      <td>0</td>\n",
       "      <td>1</td>\n",
       "    </tr>\n",
       "    <tr>\n",
       "      <th>556</th>\n",
       "      <td>595</td>\n",
       "      <td>20</td>\n",
       "      <td>88.0</td>\n",
       "      <td>7990</td>\n",
       "      <td>5</td>\n",
       "      <td>6</td>\n",
       "      <td>1975</td>\n",
       "      <td>1975</td>\n",
       "      <td>0.0</td>\n",
       "      <td>0</td>\n",
       "      <td>...</td>\n",
       "      <td>0</td>\n",
       "      <td>0</td>\n",
       "      <td>0</td>\n",
       "      <td>0</td>\n",
       "      <td>1</td>\n",
       "      <td>0</td>\n",
       "      <td>0</td>\n",
       "      <td>0</td>\n",
       "      <td>0</td>\n",
       "      <td>1</td>\n",
       "    </tr>\n",
       "  </tbody>\n",
       "</table>\n",
       "<p>569 rows × 266 columns</p>\n",
       "</div>"
      ],
      "text/plain": [
       "        Id  Dwell_Type  LotFrontage  LotArea  OverallQual  OverallCond  \\\n",
       "567    606          60         85.0    13600            7            6   \n",
       "1756   953          85         60.0     7200            4            6   \n",
       "1097  1175          70         80.0    16560            6            8   \n",
       "649    696          20         54.0    13811            6            6   \n",
       "324    345         160         36.0     2592            5            3   \n",
       "...    ...         ...          ...      ...          ...          ...   \n",
       "204    216          20         72.0    10011            5            6   \n",
       "485    518          60         79.0    10208            7            5   \n",
       "1785   983          20         43.0     3182            7            4   \n",
       "731    781          20         63.0     7875            7            5   \n",
       "556    595          20         88.0     7990            5            6   \n",
       "\n",
       "      YearBuilt  YearRemodAdd  MasVnrArea  BsmtFinSF1  ...  SaleType_ConLI  \\\n",
       "567        1965          1990       176.0         454  ...               0   \n",
       "1756       1983          2003         0.0         660  ...               0   \n",
       "1097       1932          1950         0.0         503  ...               0   \n",
       "649        1987          1987        32.0         980  ...               0   \n",
       "324        1976          1976         0.0         129  ...               0   \n",
       "...         ...           ...         ...         ...  ...             ...   \n",
       "204        1957          1996        26.0         360  ...               0   \n",
       "485        1996          1997       921.0           0  ...               0   \n",
       "1785       2007          2007        78.0           0  ...               0   \n",
       "731        1995          1996        41.0           0  ...               0   \n",
       "556        1975          1975         0.0           0  ...               0   \n",
       "\n",
       "      SaleType_ConLw  SaleType_New  SaleType_Oth  SaleType_WD  \\\n",
       "567                0             0             0            1   \n",
       "1756               0             0             0            1   \n",
       "1097               0             0             0            1   \n",
       "649                0             0             0            1   \n",
       "324                0             0             0            1   \n",
       "...              ...           ...           ...          ...   \n",
       "204                0             0             0            1   \n",
       "485                0             0             0            1   \n",
       "1785               0             0             0            1   \n",
       "731                0             0             0            1   \n",
       "556                0             0             0            1   \n",
       "\n",
       "      SaleCondition_Abnorml  SaleCondition_AdjLand  SaleCondition_Alloca  \\\n",
       "567                       0                      0                     0   \n",
       "1756                      0                      0                     0   \n",
       "1097                      0                      0                     0   \n",
       "649                       0                      0                     0   \n",
       "324                       0                      0                     0   \n",
       "...                     ...                    ...                   ...   \n",
       "204                       0                      0                     0   \n",
       "485                       0                      0                     0   \n",
       "1785                      0                      0                     0   \n",
       "731                       0                      0                     0   \n",
       "556                       0                      0                     0   \n",
       "\n",
       "      SaleCondition_Family  SaleCondition_Normal  \n",
       "567                      0                     1  \n",
       "1756                     0                     1  \n",
       "1097                     0                     1  \n",
       "649                      0                     1  \n",
       "324                      0                     1  \n",
       "...                    ...                   ...  \n",
       "204                      0                     1  \n",
       "485                      0                     1  \n",
       "1785                     0                     1  \n",
       "731                      0                     1  \n",
       "556                      0                     1  \n",
       "\n",
       "[569 rows x 266 columns]"
      ]
     },
     "execution_count": 126,
     "metadata": {},
     "output_type": "execute_result"
    }
   ],
   "source": [
    "x_train.drop(corr_features,axis=1)\n",
    "x_test.drop(corr_features,axis=1)"
   ]
  },
  {
   "cell_type": "markdown",
   "metadata": {},
   "source": [
    "# linear regression with ordinary least square method"
   ]
  },
  {
   "cell_type": "code",
   "execution_count": 127,
   "metadata": {},
   "outputs": [],
   "source": [
    "import statsmodels.api as sm\n",
    "import numpy as np"
   ]
  },
  {
   "cell_type": "code",
   "execution_count": 128,
   "metadata": {},
   "outputs": [],
   "source": [
    "x1=sm.add_constant(x_train)"
   ]
  },
  {
   "cell_type": "code",
   "execution_count": 129,
   "metadata": {},
   "outputs": [],
   "source": [
    "model=sm.OLS(y_train,x1)"
   ]
  },
  {
   "cell_type": "code",
   "execution_count": 130,
   "metadata": {},
   "outputs": [
    {
     "data": {
      "text/plain": [
       "<statsmodels.regression.linear_model.OLS at 0x2039c486d00>"
      ]
     },
     "execution_count": 130,
     "metadata": {},
     "output_type": "execute_result"
    }
   ],
   "source": [
    "model"
   ]
  },
  {
   "cell_type": "code",
   "execution_count": 131,
   "metadata": {},
   "outputs": [],
   "source": [
    "results=model.fit()"
   ]
  },
  {
   "cell_type": "code",
   "execution_count": 132,
   "metadata": {},
   "outputs": [
    {
     "data": {
      "text/html": [
       "<table class=\"simpletable\">\n",
       "<caption>OLS Regression Results</caption>\n",
       "<tr>\n",
       "  <th>Dep. Variable:</th>    <td>Property_Sale_Price</td> <th>  R-squared:         </th> <td>   0.943</td> \n",
       "</tr>\n",
       "<tr>\n",
       "  <th>Model:</th>                    <td>OLS</td>         <th>  Adj. R-squared:    </th> <td>   0.930</td> \n",
       "</tr>\n",
       "<tr>\n",
       "  <th>Method:</th>              <td>Least Squares</td>    <th>  F-statistic:       </th> <td>   74.96</td> \n",
       "</tr>\n",
       "<tr>\n",
       "  <th>Date:</th>              <td>Mon, 21 Jun 2021</td>   <th>  Prob (F-statistic):</th>  <td>  0.00</td>  \n",
       "</tr>\n",
       "<tr>\n",
       "  <th>Time:</th>                  <td>15:41:19</td>       <th>  Log-Likelihood:    </th> <td> -14722.</td> \n",
       "</tr>\n",
       "<tr>\n",
       "  <th>No. Observations:</th>       <td>  1327</td>        <th>  AIC:               </th> <td>2.993e+04</td>\n",
       "</tr>\n",
       "<tr>\n",
       "  <th>Df Residuals:</th>           <td>  1086</td>        <th>  BIC:               </th> <td>3.118e+04</td>\n",
       "</tr>\n",
       "<tr>\n",
       "  <th>Df Model:</th>               <td>   240</td>        <th>                     </th>     <td> </td>    \n",
       "</tr>\n",
       "<tr>\n",
       "  <th>Covariance Type:</th>       <td>nonrobust</td>      <th>                     </th>     <td> </td>    \n",
       "</tr>\n",
       "</table>\n",
       "<table class=\"simpletable\">\n",
       "<tr>\n",
       "            <td></td>               <th>coef</th>     <th>std err</th>      <th>t</th>      <th>P>|t|</th>  <th>[0.025</th>    <th>0.975]</th>  \n",
       "</tr>\n",
       "<tr>\n",
       "  <th>const</th>                 <td>-8.582e+04</td> <td> 8.29e+04</td> <td>   -1.035</td> <td> 0.301</td> <td>-2.48e+05</td> <td> 7.68e+04</td>\n",
       "</tr>\n",
       "<tr>\n",
       "  <th>Id</th>                    <td>   -1.5580</td> <td>    1.129</td> <td>   -1.380</td> <td> 0.168</td> <td>   -3.773</td> <td>    0.657</td>\n",
       "</tr>\n",
       "<tr>\n",
       "  <th>Dwell_Type</th>            <td>   -0.6903</td> <td>    2.592</td> <td>   -0.266</td> <td> 0.790</td> <td>   -5.777</td> <td>    4.396</td>\n",
       "</tr>\n",
       "<tr>\n",
       "  <th>LotFrontage</th>           <td>   39.6131</td> <td>   29.755</td> <td>    1.331</td> <td> 0.183</td> <td>  -18.772</td> <td>   97.998</td>\n",
       "</tr>\n",
       "<tr>\n",
       "  <th>LotArea</th>               <td>    0.8330</td> <td>    0.246</td> <td>    3.391</td> <td> 0.001</td> <td>    0.351</td> <td>    1.315</td>\n",
       "</tr>\n",
       "<tr>\n",
       "  <th>OverallQual</th>           <td>  591.8105</td> <td>  445.475</td> <td>    1.328</td> <td> 0.184</td> <td> -282.279</td> <td> 1465.900</td>\n",
       "</tr>\n",
       "<tr>\n",
       "  <th>OverallCond</th>           <td> 1763.0009</td> <td>  454.067</td> <td>    3.883</td> <td> 0.000</td> <td>  872.053</td> <td> 2653.949</td>\n",
       "</tr>\n",
       "<tr>\n",
       "  <th>YearBuilt</th>             <td>   37.0194</td> <td>   32.913</td> <td>    1.125</td> <td> 0.261</td> <td>  -27.560</td> <td>  101.599</td>\n",
       "</tr>\n",
       "<tr>\n",
       "  <th>YearRemodAdd</th>          <td>  145.6166</td> <td>   45.244</td> <td>    3.218</td> <td> 0.001</td> <td>   56.841</td> <td>  234.392</td>\n",
       "</tr>\n",
       "<tr>\n",
       "  <th>MasVnrArea</th>            <td>    9.5551</td> <td>    4.988</td> <td>    1.915</td> <td> 0.056</td> <td>   -0.233</td> <td>   19.343</td>\n",
       "</tr>\n",
       "<tr>\n",
       "  <th>BsmtFinSF1</th>            <td>   17.1990</td> <td>    2.530</td> <td>    6.799</td> <td> 0.000</td> <td>   12.235</td> <td>   22.163</td>\n",
       "</tr>\n",
       "<tr>\n",
       "  <th>BsmtFinSF2</th>            <td>    2.8862</td> <td>    4.982</td> <td>    0.579</td> <td> 0.563</td> <td>   -6.890</td> <td>   12.662</td>\n",
       "</tr>\n",
       "<tr>\n",
       "  <th>BsmtUnfSF</th>             <td>    1.1938</td> <td>    2.337</td> <td>    0.511</td> <td> 0.609</td> <td>   -3.391</td> <td>    5.778</td>\n",
       "</tr>\n",
       "<tr>\n",
       "  <th>TotalBsmtSF</th>           <td>   21.2790</td> <td>    3.757</td> <td>    5.664</td> <td> 0.000</td> <td>   13.907</td> <td>   28.651</td>\n",
       "</tr>\n",
       "<tr>\n",
       "  <th>1stFlrSF</th>              <td>   17.9562</td> <td>    5.392</td> <td>    3.330</td> <td> 0.001</td> <td>    7.375</td> <td>   28.537</td>\n",
       "</tr>\n",
       "<tr>\n",
       "  <th>2ndFlrSF</th>              <td>   23.5996</td> <td>    4.381</td> <td>    5.387</td> <td> 0.000</td> <td>   15.003</td> <td>   32.196</td>\n",
       "</tr>\n",
       "<tr>\n",
       "  <th>LowQualFinSF</th>          <td>  -10.7894</td> <td>   11.567</td> <td>   -0.933</td> <td> 0.351</td> <td>  -33.486</td> <td>   11.907</td>\n",
       "</tr>\n",
       "<tr>\n",
       "  <th>GrLivArea</th>             <td>   30.7664</td> <td>    4.728</td> <td>    6.507</td> <td> 0.000</td> <td>   21.490</td> <td>   40.043</td>\n",
       "</tr>\n",
       "<tr>\n",
       "  <th>BsmtFullBath</th>          <td> 1319.9137</td> <td> 1628.416</td> <td>    0.811</td> <td> 0.418</td> <td>-1875.284</td> <td> 4515.111</td>\n",
       "</tr>\n",
       "<tr>\n",
       "  <th>BsmtHalfBath</th>          <td> 1332.2226</td> <td> 2510.254</td> <td>    0.531</td> <td> 0.596</td> <td>-3593.275</td> <td> 6257.720</td>\n",
       "</tr>\n",
       "<tr>\n",
       "  <th>FullBath</th>              <td> 3262.2050</td> <td> 1951.167</td> <td>    1.672</td> <td> 0.095</td> <td> -566.279</td> <td> 7090.689</td>\n",
       "</tr>\n",
       "<tr>\n",
       "  <th>HalfBath</th>              <td> 3972.4826</td> <td> 1791.829</td> <td>    2.217</td> <td> 0.027</td> <td>  456.645</td> <td> 7488.320</td>\n",
       "</tr>\n",
       "<tr>\n",
       "  <th>BedroomAbvGr</th>          <td>-1736.6077</td> <td> 1203.911</td> <td>   -1.442</td> <td> 0.149</td> <td>-4098.863</td> <td>  625.647</td>\n",
       "</tr>\n",
       "<tr>\n",
       "  <th>KitchenAbvGr</th>          <td>-1.321e+04</td> <td> 4954.128</td> <td>   -2.667</td> <td> 0.008</td> <td>-2.29e+04</td> <td>-3492.963</td>\n",
       "</tr>\n",
       "<tr>\n",
       "  <th>TotRmsAbvGrd</th>          <td> -823.6489</td> <td>  812.879</td> <td>   -1.013</td> <td> 0.311</td> <td>-2418.639</td> <td>  771.341</td>\n",
       "</tr>\n",
       "<tr>\n",
       "  <th>Fireplaces</th>            <td> 2965.8889</td> <td> 2533.810</td> <td>    1.171</td> <td> 0.242</td> <td>-2005.828</td> <td> 7937.606</td>\n",
       "</tr>\n",
       "<tr>\n",
       "  <th>GarageYrBlt</th>           <td>  -99.5342</td> <td>   48.842</td> <td>   -2.038</td> <td> 0.042</td> <td> -195.370</td> <td>   -3.699</td>\n",
       "</tr>\n",
       "<tr>\n",
       "  <th>GarageCars</th>            <td> 3892.1763</td> <td> 1913.272</td> <td>    2.034</td> <td> 0.042</td> <td>  138.048</td> <td> 7646.305</td>\n",
       "</tr>\n",
       "<tr>\n",
       "  <th>GarageArea</th>            <td>   28.3553</td> <td>    6.710</td> <td>    4.226</td> <td> 0.000</td> <td>   15.190</td> <td>   41.521</td>\n",
       "</tr>\n",
       "<tr>\n",
       "  <th>WoodDeckSF</th>            <td>   19.5584</td> <td>    5.186</td> <td>    3.771</td> <td> 0.000</td> <td>    9.383</td> <td>   29.734</td>\n",
       "</tr>\n",
       "<tr>\n",
       "  <th>OpenPorchSF</th>           <td>   21.5788</td> <td>   10.040</td> <td>    2.149</td> <td> 0.032</td> <td>    1.879</td> <td>   41.278</td>\n",
       "</tr>\n",
       "<tr>\n",
       "  <th>EnclosedPorch</th>         <td>   20.4096</td> <td>   10.946</td> <td>    1.865</td> <td> 0.063</td> <td>   -1.069</td> <td>   41.888</td>\n",
       "</tr>\n",
       "<tr>\n",
       "  <th>3SsnPorch</th>             <td>   28.2648</td> <td>   18.692</td> <td>    1.512</td> <td> 0.131</td> <td>   -8.412</td> <td>   64.941</td>\n",
       "</tr>\n",
       "<tr>\n",
       "  <th>ScreenPorch</th>           <td>   28.0552</td> <td>   10.996</td> <td>    2.551</td> <td> 0.011</td> <td>    6.479</td> <td>   49.631</td>\n",
       "</tr>\n",
       "<tr>\n",
       "  <th>PoolArea</th>              <td> -106.0142</td> <td>  158.568</td> <td>   -0.669</td> <td> 0.504</td> <td> -417.148</td> <td>  205.120</td>\n",
       "</tr>\n",
       "<tr>\n",
       "  <th>MiscVal</th>               <td>    8.0502</td> <td>    5.776</td> <td>    1.394</td> <td> 0.164</td> <td>   -3.284</td> <td>   19.384</td>\n",
       "</tr>\n",
       "<tr>\n",
       "  <th>MoSold</th>                <td>   -2.7996</td> <td>  206.267</td> <td>   -0.014</td> <td> 0.989</td> <td> -407.527</td> <td>  401.928</td>\n",
       "</tr>\n",
       "<tr>\n",
       "  <th>YrSold</th>                <td>  382.0272</td> <td>  447.432</td> <td>    0.854</td> <td> 0.393</td> <td> -495.901</td> <td> 1259.955</td>\n",
       "</tr>\n",
       "<tr>\n",
       "  <th>Zone_Class_C (all)</th>    <td>-3.553e+04</td> <td> 1.81e+04</td> <td>   -1.960</td> <td> 0.050</td> <td>-7.11e+04</td> <td>   40.612</td>\n",
       "</tr>\n",
       "<tr>\n",
       "  <th>Zone_Class_FV</th>         <td>-8232.2982</td> <td> 1.72e+04</td> <td>   -0.479</td> <td> 0.632</td> <td> -4.2e+04</td> <td> 2.55e+04</td>\n",
       "</tr>\n",
       "<tr>\n",
       "  <th>Zone_Class_RH</th>         <td>-1.816e+04</td> <td> 1.72e+04</td> <td>   -1.059</td> <td> 0.290</td> <td>-5.18e+04</td> <td> 1.55e+04</td>\n",
       "</tr>\n",
       "<tr>\n",
       "  <th>Zone_Class_RL</th>         <td>-1.155e+04</td> <td> 1.67e+04</td> <td>   -0.693</td> <td> 0.488</td> <td>-4.43e+04</td> <td> 2.11e+04</td>\n",
       "</tr>\n",
       "<tr>\n",
       "  <th>Zone_Class_RM</th>         <td>-1.234e+04</td> <td> 1.68e+04</td> <td>   -0.735</td> <td> 0.462</td> <td>-4.53e+04</td> <td> 2.06e+04</td>\n",
       "</tr>\n",
       "<tr>\n",
       "  <th>Road_Type_Grvl</th>        <td>-3.448e+04</td> <td> 4.24e+04</td> <td>   -0.813</td> <td> 0.416</td> <td>-1.18e+05</td> <td> 4.87e+04</td>\n",
       "</tr>\n",
       "<tr>\n",
       "  <th>Road_Type_Pave</th>        <td>-5.134e+04</td> <td> 4.19e+04</td> <td>   -1.225</td> <td> 0.221</td> <td>-1.34e+05</td> <td> 3.09e+04</td>\n",
       "</tr>\n",
       "<tr>\n",
       "  <th>Alley_Grvl</th>            <td>-3.157e+04</td> <td> 2.77e+04</td> <td>   -1.140</td> <td> 0.255</td> <td>-8.59e+04</td> <td> 2.28e+04</td>\n",
       "</tr>\n",
       "<tr>\n",
       "  <th>Alley_Pave</th>            <td>-2.478e+04</td> <td> 2.79e+04</td> <td>   -0.888</td> <td> 0.375</td> <td>-7.96e+04</td> <td>    3e+04</td>\n",
       "</tr>\n",
       "<tr>\n",
       "  <th>Alley_none</th>            <td>-2.946e+04</td> <td> 2.76e+04</td> <td>   -1.066</td> <td> 0.287</td> <td>-8.37e+04</td> <td> 2.48e+04</td>\n",
       "</tr>\n",
       "<tr>\n",
       "  <th>Property_Shape_IR1</th>    <td>  -2.2e+04</td> <td>  2.1e+04</td> <td>   -1.050</td> <td> 0.294</td> <td>-6.31e+04</td> <td> 1.91e+04</td>\n",
       "</tr>\n",
       "<tr>\n",
       "  <th>Property_Shape_IR2</th>    <td> -2.38e+04</td> <td> 2.12e+04</td> <td>   -1.120</td> <td> 0.263</td> <td>-6.55e+04</td> <td> 1.79e+04</td>\n",
       "</tr>\n",
       "<tr>\n",
       "  <th>Property_Shape_IR3</th>    <td>-2.003e+04</td> <td> 2.17e+04</td> <td>   -0.924</td> <td> 0.356</td> <td>-6.25e+04</td> <td> 2.25e+04</td>\n",
       "</tr>\n",
       "<tr>\n",
       "  <th>Property_Shape_Reg</th>    <td>-1.999e+04</td> <td>  2.1e+04</td> <td>   -0.952</td> <td> 0.341</td> <td>-6.12e+04</td> <td> 2.12e+04</td>\n",
       "</tr>\n",
       "<tr>\n",
       "  <th>LandContour_Bnk</th>       <td>-2.353e+04</td> <td>  2.1e+04</td> <td>   -1.120</td> <td> 0.263</td> <td>-6.48e+04</td> <td> 1.77e+04</td>\n",
       "</tr>\n",
       "<tr>\n",
       "  <th>LandContour_HLS</th>       <td>-1.616e+04</td> <td>  2.1e+04</td> <td>   -0.769</td> <td> 0.442</td> <td>-5.74e+04</td> <td> 2.51e+04</td>\n",
       "</tr>\n",
       "<tr>\n",
       "  <th>LandContour_Low</th>       <td>-2.129e+04</td> <td> 2.09e+04</td> <td>   -1.017</td> <td> 0.309</td> <td>-6.24e+04</td> <td> 1.98e+04</td>\n",
       "</tr>\n",
       "<tr>\n",
       "  <th>LandContour_Lvl</th>       <td>-2.483e+04</td> <td> 2.09e+04</td> <td>   -1.189</td> <td> 0.235</td> <td>-6.58e+04</td> <td> 1.62e+04</td>\n",
       "</tr>\n",
       "<tr>\n",
       "  <th>Utilities_AllPub</th>      <td>-2.257e+04</td> <td> 4.29e+04</td> <td>   -0.526</td> <td> 0.599</td> <td>-1.07e+05</td> <td> 6.16e+04</td>\n",
       "</tr>\n",
       "<tr>\n",
       "  <th>Utilities_NoSeWa</th>      <td>-6.324e+04</td> <td> 4.26e+04</td> <td>   -1.486</td> <td> 0.138</td> <td>-1.47e+05</td> <td> 2.03e+04</td>\n",
       "</tr>\n",
       "<tr>\n",
       "  <th>LotConfig_Corner</th>      <td>  -1.4e+04</td> <td> 1.68e+04</td> <td>   -0.833</td> <td> 0.405</td> <td> -4.7e+04</td> <td>  1.9e+04</td>\n",
       "</tr>\n",
       "<tr>\n",
       "  <th>LotConfig_CulDSac</th>     <td>-1.058e+04</td> <td> 1.71e+04</td> <td>   -0.619</td> <td> 0.536</td> <td>-4.41e+04</td> <td>  2.3e+04</td>\n",
       "</tr>\n",
       "<tr>\n",
       "  <th>LotConfig_FR2</th>         <td>-2.257e+04</td> <td>  1.7e+04</td> <td>   -1.330</td> <td> 0.184</td> <td>-5.59e+04</td> <td> 1.07e+04</td>\n",
       "</tr>\n",
       "<tr>\n",
       "  <th>LotConfig_FR3</th>         <td>-2.194e+04</td> <td> 1.87e+04</td> <td>   -1.171</td> <td> 0.242</td> <td>-5.87e+04</td> <td> 1.48e+04</td>\n",
       "</tr>\n",
       "<tr>\n",
       "  <th>LotConfig_Inside</th>      <td>-1.672e+04</td> <td> 1.68e+04</td> <td>   -0.993</td> <td> 0.321</td> <td>-4.98e+04</td> <td> 1.63e+04</td>\n",
       "</tr>\n",
       "<tr>\n",
       "  <th>LandSlope_Gtl</th>         <td>-3.085e+04</td> <td>  2.8e+04</td> <td>   -1.103</td> <td> 0.270</td> <td>-8.57e+04</td> <td>  2.4e+04</td>\n",
       "</tr>\n",
       "<tr>\n",
       "  <th>LandSlope_Mod</th>         <td> -3.08e+04</td> <td>  2.8e+04</td> <td>   -1.101</td> <td> 0.271</td> <td>-8.57e+04</td> <td> 2.41e+04</td>\n",
       "</tr>\n",
       "<tr>\n",
       "  <th>LandSlope_Sev</th>         <td>-2.417e+04</td> <td> 2.92e+04</td> <td>   -0.827</td> <td> 0.408</td> <td>-8.15e+04</td> <td> 3.32e+04</td>\n",
       "</tr>\n",
       "<tr>\n",
       "  <th>Neighborhood_Blmngtn</th>  <td>-2284.1943</td> <td> 6994.466</td> <td>   -0.327</td> <td> 0.744</td> <td> -1.6e+04</td> <td> 1.14e+04</td>\n",
       "</tr>\n",
       "<tr>\n",
       "  <th>Neighborhood_Blueste</th>  <td>  482.5528</td> <td>  1.4e+04</td> <td>    0.035</td> <td> 0.972</td> <td> -2.7e+04</td> <td> 2.79e+04</td>\n",
       "</tr>\n",
       "<tr>\n",
       "  <th>Neighborhood_BrDale</th>   <td> 6066.0682</td> <td> 7800.649</td> <td>    0.778</td> <td> 0.437</td> <td>-9239.980</td> <td> 2.14e+04</td>\n",
       "</tr>\n",
       "<tr>\n",
       "  <th>Neighborhood_BrkSide</th>  <td>-1.109e+04</td> <td> 5064.884</td> <td>   -2.189</td> <td> 0.029</td> <td> -2.1e+04</td> <td>-1148.742</td>\n",
       "</tr>\n",
       "<tr>\n",
       "  <th>Neighborhood_ClearCr</th>  <td>-1.104e+04</td> <td> 7157.162</td> <td>   -1.543</td> <td> 0.123</td> <td>-2.51e+04</td> <td> 3002.110</td>\n",
       "</tr>\n",
       "<tr>\n",
       "  <th>Neighborhood_CollgCr</th>  <td>-7062.7443</td> <td> 4179.570</td> <td>   -1.690</td> <td> 0.091</td> <td>-1.53e+04</td> <td> 1138.202</td>\n",
       "</tr>\n",
       "<tr>\n",
       "  <th>Neighborhood_Crawfor</th>  <td> 7137.5780</td> <td> 4916.282</td> <td>    1.452</td> <td> 0.147</td> <td>-2508.909</td> <td> 1.68e+04</td>\n",
       "</tr>\n",
       "<tr>\n",
       "  <th>Neighborhood_Edwards</th>  <td>-2.342e+04</td> <td> 4412.406</td> <td>   -5.307</td> <td> 0.000</td> <td>-3.21e+04</td> <td>-1.48e+04</td>\n",
       "</tr>\n",
       "<tr>\n",
       "  <th>Neighborhood_Gilbert</th>  <td>-6953.2147</td> <td> 4590.653</td> <td>   -1.515</td> <td> 0.130</td> <td> -1.6e+04</td> <td> 2054.338</td>\n",
       "</tr>\n",
       "<tr>\n",
       "  <th>Neighborhood_IDOTRR</th>   <td>-1.956e+04</td> <td> 5941.207</td> <td>   -3.293</td> <td> 0.001</td> <td>-3.12e+04</td> <td>-7907.246</td>\n",
       "</tr>\n",
       "<tr>\n",
       "  <th>Neighborhood_MeadowV</th>  <td>-2.136e+04</td> <td> 7887.572</td> <td>   -2.708</td> <td> 0.007</td> <td>-3.68e+04</td> <td>-5879.729</td>\n",
       "</tr>\n",
       "<tr>\n",
       "  <th>Neighborhood_Mitchel</th>  <td>-1.837e+04</td> <td> 4565.426</td> <td>   -4.024</td> <td> 0.000</td> <td>-2.73e+04</td> <td>-9412.514</td>\n",
       "</tr>\n",
       "<tr>\n",
       "  <th>Neighborhood_NAmes</th>    <td>-1.696e+04</td> <td> 4069.457</td> <td>   -4.168</td> <td> 0.000</td> <td>-2.49e+04</td> <td>-8975.947</td>\n",
       "</tr>\n",
       "<tr>\n",
       "  <th>Neighborhood_NPkVill</th>  <td> 2.122e+04</td> <td> 9426.217</td> <td>    2.251</td> <td> 0.025</td> <td> 2723.361</td> <td> 3.97e+04</td>\n",
       "</tr>\n",
       "<tr>\n",
       "  <th>Neighborhood_NWAmes</th>   <td>-1.423e+04</td> <td> 4504.985</td> <td>   -3.158</td> <td> 0.002</td> <td>-2.31e+04</td> <td>-5386.193</td>\n",
       "</tr>\n",
       "<tr>\n",
       "  <th>Neighborhood_NoRidge</th>  <td> 2.055e+04</td> <td> 5350.068</td> <td>    3.841</td> <td> 0.000</td> <td> 1.01e+04</td> <td>  3.1e+04</td>\n",
       "</tr>\n",
       "<tr>\n",
       "  <th>Neighborhood_NridgHt</th>  <td> 1.939e+04</td> <td> 4890.964</td> <td>    3.964</td> <td> 0.000</td> <td> 9792.724</td> <td>  2.9e+04</td>\n",
       "</tr>\n",
       "<tr>\n",
       "  <th>Neighborhood_OldTown</th>  <td> -2.49e+04</td> <td> 5029.000</td> <td>   -4.951</td> <td> 0.000</td> <td>-3.48e+04</td> <td> -1.5e+04</td>\n",
       "</tr>\n",
       "<tr>\n",
       "  <th>Neighborhood_SWISU</th>    <td>-1.576e+04</td> <td> 6801.356</td> <td>   -2.317</td> <td> 0.021</td> <td>-2.91e+04</td> <td>-2413.780</td>\n",
       "</tr>\n",
       "<tr>\n",
       "  <th>Neighborhood_Sawyer</th>   <td>-9129.1826</td> <td> 4320.021</td> <td>   -2.113</td> <td> 0.035</td> <td>-1.76e+04</td> <td> -652.651</td>\n",
       "</tr>\n",
       "<tr>\n",
       "  <th>Neighborhood_SawyerW</th>  <td>-2504.8556</td> <td> 4630.312</td> <td>   -0.541</td> <td> 0.589</td> <td>-1.16e+04</td> <td> 6580.515</td>\n",
       "</tr>\n",
       "<tr>\n",
       "  <th>Neighborhood_Somerst</th>  <td> 5969.7961</td> <td> 5445.659</td> <td>    1.096</td> <td> 0.273</td> <td>-4715.407</td> <td> 1.67e+04</td>\n",
       "</tr>\n",
       "<tr>\n",
       "  <th>Neighborhood_StoneBr</th>  <td> 3.162e+04</td> <td> 5793.705</td> <td>    5.458</td> <td> 0.000</td> <td> 2.03e+04</td> <td>  4.3e+04</td>\n",
       "</tr>\n",
       "<tr>\n",
       "  <th>Neighborhood_Timber</th>   <td>-5870.4758</td> <td> 5308.961</td> <td>   -1.106</td> <td> 0.269</td> <td>-1.63e+04</td> <td> 4546.506</td>\n",
       "</tr>\n",
       "<tr>\n",
       "  <th>Neighborhood_Veenker</th>  <td> 1.223e+04</td> <td> 8730.292</td> <td>    1.401</td> <td> 0.161</td> <td>-4897.636</td> <td> 2.94e+04</td>\n",
       "</tr>\n",
       "<tr>\n",
       "  <th>Condition1_Artery</th>     <td>-1.492e+04</td> <td> 9903.972</td> <td>   -1.507</td> <td> 0.132</td> <td>-3.44e+04</td> <td> 4508.833</td>\n",
       "</tr>\n",
       "<tr>\n",
       "  <th>Condition1_Feedr</th>      <td>-1.425e+04</td> <td> 9785.535</td> <td>   -1.456</td> <td> 0.146</td> <td>-3.35e+04</td> <td> 4948.643</td>\n",
       "</tr>\n",
       "<tr>\n",
       "  <th>Condition1_Norm</th>       <td>-2780.9532</td> <td> 9435.753</td> <td>   -0.295</td> <td> 0.768</td> <td>-2.13e+04</td> <td> 1.57e+04</td>\n",
       "</tr>\n",
       "<tr>\n",
       "  <th>Condition1_PosA</th>       <td> 4633.1295</td> <td> 1.22e+04</td> <td>    0.381</td> <td> 0.703</td> <td>-1.92e+04</td> <td> 2.85e+04</td>\n",
       "</tr>\n",
       "<tr>\n",
       "  <th>Condition1_PosN</th>       <td>-9186.0435</td> <td> 1.11e+04</td> <td>   -0.830</td> <td> 0.407</td> <td>-3.09e+04</td> <td> 1.25e+04</td>\n",
       "</tr>\n",
       "<tr>\n",
       "  <th>Condition1_RRAe</th>       <td>-2.032e+04</td> <td> 1.14e+04</td> <td>   -1.784</td> <td> 0.075</td> <td>-4.27e+04</td> <td> 2024.452</td>\n",
       "</tr>\n",
       "<tr>\n",
       "  <th>Condition1_RRAn</th>       <td> -1.04e+04</td> <td> 1.03e+04</td> <td>   -1.006</td> <td> 0.315</td> <td>-3.07e+04</td> <td> 9885.399</td>\n",
       "</tr>\n",
       "<tr>\n",
       "  <th>Condition1_RRNe</th>       <td>-1.658e+04</td> <td> 1.52e+04</td> <td>   -1.089</td> <td> 0.276</td> <td>-4.65e+04</td> <td> 1.33e+04</td>\n",
       "</tr>\n",
       "<tr>\n",
       "  <th>Condition1_RRNn</th>       <td>-2013.4296</td> <td> 1.19e+04</td> <td>   -0.169</td> <td> 0.865</td> <td>-2.53e+04</td> <td> 2.13e+04</td>\n",
       "</tr>\n",
       "<tr>\n",
       "  <th>Condition2_Artery</th>     <td>-3.213e+04</td> <td> 2.54e+04</td> <td>   -1.266</td> <td> 0.206</td> <td> -8.2e+04</td> <td> 1.77e+04</td>\n",
       "</tr>\n",
       "<tr>\n",
       "  <th>Condition2_Feedr</th>      <td>-1.347e+04</td> <td> 1.94e+04</td> <td>   -0.695</td> <td> 0.487</td> <td>-5.15e+04</td> <td> 2.46e+04</td>\n",
       "</tr>\n",
       "<tr>\n",
       "  <th>Condition2_Norm</th>       <td>-2.956e+04</td> <td> 1.57e+04</td> <td>   -1.879</td> <td> 0.061</td> <td>-6.04e+04</td> <td> 1313.600</td>\n",
       "</tr>\n",
       "<tr>\n",
       "  <th>Condition2_PosA</th>       <td> 3.211e+04</td> <td> 2.91e+04</td> <td>    1.103</td> <td> 0.270</td> <td> -2.5e+04</td> <td> 8.92e+04</td>\n",
       "</tr>\n",
       "<tr>\n",
       "  <th>Condition2_RRAn</th>       <td>-3.353e+04</td> <td> 1.91e+04</td> <td>   -1.755</td> <td> 0.080</td> <td> -7.1e+04</td> <td> 3956.479</td>\n",
       "</tr>\n",
       "<tr>\n",
       "  <th>Condition2_RRNn</th>       <td>-9226.7233</td> <td> 2.19e+04</td> <td>   -0.421</td> <td> 0.674</td> <td>-5.23e+04</td> <td> 3.38e+04</td>\n",
       "</tr>\n",
       "<tr>\n",
       "  <th>Dwelling_Type_1Fam</th>    <td>-4778.2164</td> <td>  1.7e+04</td> <td>   -0.282</td> <td> 0.778</td> <td>-3.81e+04</td> <td> 2.85e+04</td>\n",
       "</tr>\n",
       "<tr>\n",
       "  <th>Dwelling_Type_2fmCon</th>  <td>-7336.5853</td> <td>  1.7e+04</td> <td>   -0.432</td> <td> 0.666</td> <td>-4.07e+04</td> <td>  2.6e+04</td>\n",
       "</tr>\n",
       "<tr>\n",
       "  <th>Dwelling_Type_Duplex</th>  <td>-2.225e+04</td> <td>  1.7e+04</td> <td>   -1.305</td> <td> 0.192</td> <td>-5.57e+04</td> <td> 1.12e+04</td>\n",
       "</tr>\n",
       "<tr>\n",
       "  <th>Dwelling_Type_Twnhs</th>   <td>-2.622e+04</td> <td> 1.71e+04</td> <td>   -1.530</td> <td> 0.126</td> <td>-5.98e+04</td> <td> 7399.364</td>\n",
       "</tr>\n",
       "<tr>\n",
       "  <th>Dwelling_Type_TwnhsE</th>  <td>-2.523e+04</td> <td> 1.69e+04</td> <td>   -1.492</td> <td> 0.136</td> <td>-5.84e+04</td> <td> 7948.087</td>\n",
       "</tr>\n",
       "<tr>\n",
       "  <th>HouseStyle_1.5Fin</th>     <td>-8843.4486</td> <td> 1.07e+04</td> <td>   -0.825</td> <td> 0.410</td> <td>-2.99e+04</td> <td> 1.22e+04</td>\n",
       "</tr>\n",
       "<tr>\n",
       "  <th>HouseStyle_1.5Unf</th>     <td>  941.8527</td> <td> 1.17e+04</td> <td>    0.081</td> <td> 0.936</td> <td> -2.2e+04</td> <td> 2.38e+04</td>\n",
       "</tr>\n",
       "<tr>\n",
       "  <th>HouseStyle_1Story</th>     <td>-7146.9275</td> <td> 1.06e+04</td> <td>   -0.673</td> <td> 0.501</td> <td> -2.8e+04</td> <td> 1.37e+04</td>\n",
       "</tr>\n",
       "<tr>\n",
       "  <th>HouseStyle_2.5Fin</th>     <td>-2.421e+04</td> <td>  1.6e+04</td> <td>   -1.513</td> <td> 0.131</td> <td>-5.56e+04</td> <td> 7185.080</td>\n",
       "</tr>\n",
       "<tr>\n",
       "  <th>HouseStyle_2.5Unf</th>     <td> -1.57e+04</td> <td> 1.22e+04</td> <td>   -1.282</td> <td> 0.200</td> <td>-3.97e+04</td> <td> 8319.834</td>\n",
       "</tr>\n",
       "<tr>\n",
       "  <th>HouseStyle_2Story</th>     <td>-1.113e+04</td> <td> 1.07e+04</td> <td>   -1.038</td> <td> 0.300</td> <td>-3.22e+04</td> <td> 9912.606</td>\n",
       "</tr>\n",
       "<tr>\n",
       "  <th>HouseStyle_SFoyer</th>     <td>-9704.0990</td> <td> 1.12e+04</td> <td>   -0.870</td> <td> 0.384</td> <td>-3.16e+04</td> <td> 1.22e+04</td>\n",
       "</tr>\n",
       "<tr>\n",
       "  <th>HouseStyle_SLvl</th>       <td>-1.003e+04</td> <td> 1.09e+04</td> <td>   -0.922</td> <td> 0.357</td> <td>-3.14e+04</td> <td> 1.13e+04</td>\n",
       "</tr>\n",
       "<tr>\n",
       "  <th>RoofStyle_Flat</th>        <td>-1.681e+04</td> <td> 2.35e+04</td> <td>   -0.716</td> <td> 0.474</td> <td>-6.29e+04</td> <td> 2.93e+04</td>\n",
       "</tr>\n",
       "<tr>\n",
       "  <th>RoofStyle_Gable</th>       <td>-2.606e+04</td> <td> 1.74e+04</td> <td>   -1.498</td> <td> 0.134</td> <td>-6.02e+04</td> <td> 8065.824</td>\n",
       "</tr>\n",
       "<tr>\n",
       "  <th>RoofStyle_Gambrel</th>     <td>-1.092e+04</td> <td> 1.81e+04</td> <td>   -0.603</td> <td> 0.546</td> <td>-4.64e+04</td> <td> 2.46e+04</td>\n",
       "</tr>\n",
       "<tr>\n",
       "  <th>RoofStyle_Hip</th>         <td>-2.384e+04</td> <td> 1.74e+04</td> <td>   -1.373</td> <td> 0.170</td> <td>-5.79e+04</td> <td> 1.02e+04</td>\n",
       "</tr>\n",
       "<tr>\n",
       "  <th>RoofStyle_Mansard</th>     <td>-8188.0375</td> <td> 1.89e+04</td> <td>   -0.434</td> <td> 0.665</td> <td>-4.52e+04</td> <td> 2.89e+04</td>\n",
       "</tr>\n",
       "<tr>\n",
       "  <th>RoofMatl_CompShg</th>      <td>-1.898e+04</td> <td> 2.22e+04</td> <td>   -0.855</td> <td> 0.393</td> <td>-6.25e+04</td> <td> 2.46e+04</td>\n",
       "</tr>\n",
       "<tr>\n",
       "  <th>RoofMatl_Roll</th>         <td> 3.253e-10</td> <td> 2.88e-10</td> <td>    1.130</td> <td> 0.259</td> <td>-2.39e-10</td> <td>  8.9e-10</td>\n",
       "</tr>\n",
       "<tr>\n",
       "  <th>RoofMatl_Tar&Grv</th>      <td>-3.669e+04</td> <td> 2.87e+04</td> <td>   -1.280</td> <td> 0.201</td> <td>-9.29e+04</td> <td> 1.95e+04</td>\n",
       "</tr>\n",
       "<tr>\n",
       "  <th>RoofMatl_WdShake</th>      <td>-3.109e+04</td> <td> 2.36e+04</td> <td>   -1.317</td> <td> 0.188</td> <td>-7.74e+04</td> <td> 1.52e+04</td>\n",
       "</tr>\n",
       "<tr>\n",
       "  <th>RoofMatl_WdShngl</th>      <td>  940.0541</td> <td> 2.35e+04</td> <td>    0.040</td> <td> 0.968</td> <td>-4.52e+04</td> <td> 4.71e+04</td>\n",
       "</tr>\n",
       "<tr>\n",
       "  <th>Exterior1st_AsbShng</th>   <td> 1.043e+04</td> <td> 1.17e+04</td> <td>    0.892</td> <td> 0.373</td> <td>-1.25e+04</td> <td> 3.34e+04</td>\n",
       "</tr>\n",
       "<tr>\n",
       "  <th>Exterior1st_AsphShn</th>   <td> 3.331e+04</td> <td>  2.5e+04</td> <td>    1.332</td> <td> 0.183</td> <td>-1.58e+04</td> <td> 8.24e+04</td>\n",
       "</tr>\n",
       "<tr>\n",
       "  <th>Exterior1st_BrkComm</th>   <td> 3.922e+04</td> <td> 2.68e+04</td> <td>    1.464</td> <td> 0.144</td> <td>-1.33e+04</td> <td> 9.18e+04</td>\n",
       "</tr>\n",
       "<tr>\n",
       "  <th>Exterior1st_BrkFace</th>   <td> 4032.7803</td> <td> 7874.108</td> <td>    0.512</td> <td> 0.609</td> <td>-1.14e+04</td> <td> 1.95e+04</td>\n",
       "</tr>\n",
       "<tr>\n",
       "  <th>Exterior1st_CBlock</th>    <td>-1.101e+04</td> <td> 1.17e+04</td> <td>   -0.945</td> <td> 0.345</td> <td>-3.39e+04</td> <td> 1.19e+04</td>\n",
       "</tr>\n",
       "<tr>\n",
       "  <th>Exterior1st_CemntBd</th>   <td>-3.898e+04</td> <td> 1.45e+04</td> <td>   -2.697</td> <td> 0.007</td> <td>-6.73e+04</td> <td>-1.06e+04</td>\n",
       "</tr>\n",
       "<tr>\n",
       "  <th>Exterior1st_HdBoard</th>   <td> -1.67e+04</td> <td> 7598.256</td> <td>   -2.199</td> <td> 0.028</td> <td>-3.16e+04</td> <td>-1795.892</td>\n",
       "</tr>\n",
       "<tr>\n",
       "  <th>Exterior1st_ImStucc</th>   <td>-1.821e+04</td> <td> 1.97e+04</td> <td>   -0.924</td> <td> 0.355</td> <td>-5.68e+04</td> <td> 2.04e+04</td>\n",
       "</tr>\n",
       "<tr>\n",
       "  <th>Exterior1st_MetalSd</th>   <td>-1.094e+04</td> <td> 9964.125</td> <td>   -1.098</td> <td> 0.273</td> <td>-3.05e+04</td> <td> 8614.139</td>\n",
       "</tr>\n",
       "<tr>\n",
       "  <th>Exterior1st_Plywood</th>   <td>-1.406e+04</td> <td> 7736.757</td> <td>   -1.818</td> <td> 0.069</td> <td>-2.92e+04</td> <td> 1117.549</td>\n",
       "</tr>\n",
       "<tr>\n",
       "  <th>Exterior1st_Stone</th>     <td>-1.657e+04</td> <td> 2.26e+04</td> <td>   -0.734</td> <td> 0.463</td> <td>-6.08e+04</td> <td> 2.77e+04</td>\n",
       "</tr>\n",
       "<tr>\n",
       "  <th>Exterior1st_Stucco</th>    <td>  460.3175</td> <td> 9499.286</td> <td>    0.048</td> <td> 0.961</td> <td>-1.82e+04</td> <td> 1.91e+04</td>\n",
       "</tr>\n",
       "<tr>\n",
       "  <th>Exterior1st_VinylSd</th>   <td>-1.754e+04</td> <td> 8242.029</td> <td>   -2.128</td> <td> 0.034</td> <td>-3.37e+04</td> <td>-1368.523</td>\n",
       "</tr>\n",
       "<tr>\n",
       "  <th>Exterior1st_Wd Sdng</th>   <td>-1.901e+04</td> <td> 7380.354</td> <td>   -2.575</td> <td> 0.010</td> <td>-3.35e+04</td> <td>-4524.316</td>\n",
       "</tr>\n",
       "<tr>\n",
       "  <th>Exterior1st_WdShing</th>   <td>-1.026e+04</td> <td> 8164.078</td> <td>   -1.257</td> <td> 0.209</td> <td>-2.63e+04</td> <td> 5759.878</td>\n",
       "</tr>\n",
       "<tr>\n",
       "  <th>Exterior2nd_AsbShng</th>   <td>-2.442e+04</td> <td> 1.08e+04</td> <td>   -2.266</td> <td> 0.024</td> <td>-4.56e+04</td> <td>-3272.406</td>\n",
       "</tr>\n",
       "<tr>\n",
       "  <th>Exterior2nd_AsphShn</th>   <td>-3.488e+04</td> <td>    2e+04</td> <td>   -1.743</td> <td> 0.082</td> <td>-7.42e+04</td> <td> 4385.149</td>\n",
       "</tr>\n",
       "<tr>\n",
       "  <th>Exterior2nd_Brk Cmn</th>   <td>-2.026e+04</td> <td> 1.24e+04</td> <td>   -1.638</td> <td> 0.102</td> <td>-4.45e+04</td> <td> 4007.336</td>\n",
       "</tr>\n",
       "<tr>\n",
       "  <th>Exterior2nd_BrkFace</th>   <td> -1.02e+04</td> <td> 8168.815</td> <td>   -1.248</td> <td> 0.212</td> <td>-2.62e+04</td> <td> 5829.781</td>\n",
       "</tr>\n",
       "<tr>\n",
       "  <th>Exterior2nd_CBlock</th>    <td>-1.101e+04</td> <td> 1.17e+04</td> <td>   -0.945</td> <td> 0.345</td> <td>-3.39e+04</td> <td> 1.19e+04</td>\n",
       "</tr>\n",
       "<tr>\n",
       "  <th>Exterior2nd_CmentBd</th>   <td> 2.893e+04</td> <td> 1.49e+04</td> <td>    1.942</td> <td> 0.052</td> <td> -292.930</td> <td> 5.82e+04</td>\n",
       "</tr>\n",
       "<tr>\n",
       "  <th>Exterior2nd_HdBoard</th>   <td> -666.8093</td> <td> 6805.249</td> <td>   -0.098</td> <td> 0.922</td> <td> -1.4e+04</td> <td> 1.27e+04</td>\n",
       "</tr>\n",
       "<tr>\n",
       "  <th>Exterior2nd_ImStucc</th>   <td>  743.6209</td> <td> 8818.095</td> <td>    0.084</td> <td> 0.933</td> <td>-1.66e+04</td> <td>  1.8e+04</td>\n",
       "</tr>\n",
       "<tr>\n",
       "  <th>Exterior2nd_MetalSd</th>   <td>  -79.5860</td> <td> 9293.798</td> <td>   -0.009</td> <td> 0.993</td> <td>-1.83e+04</td> <td> 1.82e+04</td>\n",
       "</tr>\n",
       "<tr>\n",
       "  <th>Exterior2nd_Other</th>     <td>-5926.7209</td> <td> 1.89e+04</td> <td>   -0.313</td> <td> 0.755</td> <td>-4.31e+04</td> <td> 3.13e+04</td>\n",
       "</tr>\n",
       "<tr>\n",
       "  <th>Exterior2nd_Plywood</th>   <td> -558.6764</td> <td> 6846.016</td> <td>   -0.082</td> <td> 0.935</td> <td> -1.4e+04</td> <td> 1.29e+04</td>\n",
       "</tr>\n",
       "<tr>\n",
       "  <th>Exterior2nd_Stone</th>     <td>-3826.4830</td> <td> 1.17e+04</td> <td>   -0.328</td> <td> 0.743</td> <td>-2.67e+04</td> <td> 1.91e+04</td>\n",
       "</tr>\n",
       "<tr>\n",
       "  <th>Exterior2nd_Stucco</th>    <td>-1.298e+04</td> <td> 9713.092</td> <td>   -1.336</td> <td> 0.182</td> <td> -3.2e+04</td> <td> 6082.471</td>\n",
       "</tr>\n",
       "<tr>\n",
       "  <th>Exterior2nd_VinylSd</th>   <td> 5651.0344</td> <td> 7309.441</td> <td>    0.773</td> <td> 0.440</td> <td>-8691.191</td> <td>    2e+04</td>\n",
       "</tr>\n",
       "<tr>\n",
       "  <th>Exterior2nd_Wd Sdng</th>   <td> 5567.6646</td> <td> 6529.015</td> <td>    0.853</td> <td> 0.394</td> <td>-7243.246</td> <td> 1.84e+04</td>\n",
       "</tr>\n",
       "<tr>\n",
       "  <th>Exterior2nd_Wd Shng</th>   <td>-1905.2605</td> <td> 6976.609</td> <td>   -0.273</td> <td> 0.785</td> <td>-1.56e+04</td> <td> 1.18e+04</td>\n",
       "</tr>\n",
       "<tr>\n",
       "  <th>MasVnrType_BrkCmn</th>     <td>-2.501e+04</td> <td> 1.72e+04</td> <td>   -1.456</td> <td> 0.146</td> <td>-5.87e+04</td> <td> 8692.938</td>\n",
       "</tr>\n",
       "<tr>\n",
       "  <th>MasVnrType_BrkFace</th>    <td>-1.374e+04</td> <td> 1.66e+04</td> <td>   -0.827</td> <td> 0.408</td> <td>-4.63e+04</td> <td> 1.89e+04</td>\n",
       "</tr>\n",
       "<tr>\n",
       "  <th>MasVnrType_None</th>       <td>-1.537e+04</td> <td> 1.67e+04</td> <td>   -0.923</td> <td> 0.356</td> <td> -4.8e+04</td> <td> 1.73e+04</td>\n",
       "</tr>\n",
       "<tr>\n",
       "  <th>MasVnrType_Stone</th>      <td>-1.156e+04</td> <td>  1.7e+04</td> <td>   -0.681</td> <td> 0.496</td> <td>-4.48e+04</td> <td> 2.17e+04</td>\n",
       "</tr>\n",
       "<tr>\n",
       "  <th>MasVnrType_none</th>       <td>-2.014e+04</td> <td>  1.8e+04</td> <td>   -1.117</td> <td> 0.264</td> <td>-5.55e+04</td> <td> 1.52e+04</td>\n",
       "</tr>\n",
       "<tr>\n",
       "  <th>ExterQual_Ex</th>          <td>-4280.9060</td> <td>  2.1e+04</td> <td>   -0.203</td> <td> 0.839</td> <td>-4.56e+04</td> <td>  3.7e+04</td>\n",
       "</tr>\n",
       "<tr>\n",
       "  <th>ExterQual_Fa</th>          <td> -3.33e+04</td> <td> 2.28e+04</td> <td>   -1.462</td> <td> 0.144</td> <td> -7.8e+04</td> <td> 1.14e+04</td>\n",
       "</tr>\n",
       "<tr>\n",
       "  <th>ExterQual_Gd</th>          <td>-2.137e+04</td> <td> 2.07e+04</td> <td>   -1.034</td> <td> 0.301</td> <td>-6.19e+04</td> <td> 1.92e+04</td>\n",
       "</tr>\n",
       "<tr>\n",
       "  <th>ExterQual_TA</th>          <td>-2.686e+04</td> <td> 2.07e+04</td> <td>   -1.299</td> <td> 0.194</td> <td>-6.75e+04</td> <td> 1.37e+04</td>\n",
       "</tr>\n",
       "<tr>\n",
       "  <th>ExterCond_Ex</th>          <td>-1.451e+04</td> <td> 2.34e+04</td> <td>   -0.621</td> <td> 0.535</td> <td>-6.04e+04</td> <td> 3.13e+04</td>\n",
       "</tr>\n",
       "<tr>\n",
       "  <th>ExterCond_Fa</th>          <td>-1.183e+04</td> <td> 1.79e+04</td> <td>   -0.661</td> <td> 0.509</td> <td>-4.69e+04</td> <td> 2.33e+04</td>\n",
       "</tr>\n",
       "<tr>\n",
       "  <th>ExterCond_Gd</th>          <td>-1.641e+04</td> <td> 1.74e+04</td> <td>   -0.942</td> <td> 0.346</td> <td>-5.06e+04</td> <td> 1.78e+04</td>\n",
       "</tr>\n",
       "<tr>\n",
       "  <th>ExterCond_Po</th>          <td>-2.922e+04</td> <td> 2.48e+04</td> <td>   -1.177</td> <td> 0.240</td> <td>-7.79e+04</td> <td> 1.95e+04</td>\n",
       "</tr>\n",
       "<tr>\n",
       "  <th>ExterCond_TA</th>          <td>-1.385e+04</td> <td> 1.74e+04</td> <td>   -0.798</td> <td> 0.425</td> <td>-4.79e+04</td> <td> 2.02e+04</td>\n",
       "</tr>\n",
       "<tr>\n",
       "  <th>Foundation_BrkTil</th>     <td>-1.579e+04</td> <td> 1.44e+04</td> <td>   -1.099</td> <td> 0.272</td> <td> -4.4e+04</td> <td> 1.24e+04</td>\n",
       "</tr>\n",
       "<tr>\n",
       "  <th>Foundation_CBlock</th>     <td>-9853.1445</td> <td> 1.42e+04</td> <td>   -0.693</td> <td> 0.489</td> <td>-3.78e+04</td> <td> 1.81e+04</td>\n",
       "</tr>\n",
       "<tr>\n",
       "  <th>Foundation_PConc</th>      <td>-9288.7376</td> <td> 1.43e+04</td> <td>   -0.651</td> <td> 0.515</td> <td>-3.73e+04</td> <td> 1.87e+04</td>\n",
       "</tr>\n",
       "<tr>\n",
       "  <th>Foundation_Slab</th>       <td>-1.619e+04</td> <td> 1.57e+04</td> <td>   -1.032</td> <td> 0.302</td> <td> -4.7e+04</td> <td> 1.46e+04</td>\n",
       "</tr>\n",
       "<tr>\n",
       "  <th>Foundation_Stone</th>      <td>-1.304e+04</td> <td> 1.62e+04</td> <td>   -0.805</td> <td> 0.421</td> <td>-4.48e+04</td> <td> 1.88e+04</td>\n",
       "</tr>\n",
       "<tr>\n",
       "  <th>Foundation_Wood</th>       <td>-2.166e+04</td> <td> 1.79e+04</td> <td>   -1.209</td> <td> 0.227</td> <td>-5.68e+04</td> <td> 1.35e+04</td>\n",
       "</tr>\n",
       "<tr>\n",
       "  <th>BsmtQual_Ex</th>           <td>-8458.7638</td> <td> 1.74e+04</td> <td>   -0.485</td> <td> 0.628</td> <td>-4.27e+04</td> <td> 2.57e+04</td>\n",
       "</tr>\n",
       "<tr>\n",
       "  <th>BsmtQual_Fa</th>           <td>-2.224e+04</td> <td> 1.72e+04</td> <td>   -1.293</td> <td> 0.196</td> <td> -5.6e+04</td> <td> 1.15e+04</td>\n",
       "</tr>\n",
       "<tr>\n",
       "  <th>BsmtQual_Gd</th>           <td> -2.31e+04</td> <td> 1.72e+04</td> <td>   -1.344</td> <td> 0.179</td> <td>-5.68e+04</td> <td> 1.06e+04</td>\n",
       "</tr>\n",
       "<tr>\n",
       "  <th>BsmtQual_TA</th>           <td> -2.19e+04</td> <td> 1.72e+04</td> <td>   -1.273</td> <td> 0.203</td> <td>-5.57e+04</td> <td> 1.19e+04</td>\n",
       "</tr>\n",
       "<tr>\n",
       "  <th>BsmtQual_none</th>         <td>-1.012e+04</td> <td> 1.52e+04</td> <td>   -0.665</td> <td> 0.506</td> <td>   -4e+04</td> <td> 1.97e+04</td>\n",
       "</tr>\n",
       "<tr>\n",
       "  <th>BsmtCond_Fa</th>           <td>-2.774e+04</td> <td>  1.8e+04</td> <td>   -1.543</td> <td> 0.123</td> <td> -6.3e+04</td> <td> 7533.459</td>\n",
       "</tr>\n",
       "<tr>\n",
       "  <th>BsmtCond_Gd</th>           <td>-1.434e+04</td> <td> 1.79e+04</td> <td>   -0.803</td> <td> 0.422</td> <td>-4.94e+04</td> <td> 2.07e+04</td>\n",
       "</tr>\n",
       "<tr>\n",
       "  <th>BsmtCond_Po</th>           <td>-1.638e+04</td> <td> 1.95e+04</td> <td>   -0.842</td> <td> 0.400</td> <td>-5.46e+04</td> <td> 2.18e+04</td>\n",
       "</tr>\n",
       "<tr>\n",
       "  <th>BsmtCond_TA</th>           <td>-1.723e+04</td> <td>  1.8e+04</td> <td>   -0.958</td> <td> 0.338</td> <td>-5.25e+04</td> <td>  1.8e+04</td>\n",
       "</tr>\n",
       "<tr>\n",
       "  <th>BsmtCond_none</th>         <td>-1.012e+04</td> <td> 1.52e+04</td> <td>   -0.665</td> <td> 0.506</td> <td>   -4e+04</td> <td> 1.97e+04</td>\n",
       "</tr>\n",
       "<tr>\n",
       "  <th>BsmtExposure_Av</th>       <td>-1.581e+04</td> <td> 1.72e+04</td> <td>   -0.919</td> <td> 0.358</td> <td>-4.96e+04</td> <td> 1.79e+04</td>\n",
       "</tr>\n",
       "<tr>\n",
       "  <th>BsmtExposure_Gd</th>       <td>-4164.3455</td> <td> 1.71e+04</td> <td>   -0.244</td> <td> 0.808</td> <td>-3.77e+04</td> <td> 2.94e+04</td>\n",
       "</tr>\n",
       "<tr>\n",
       "  <th>BsmtExposure_Mn</th>       <td>-1.764e+04</td> <td> 1.73e+04</td> <td>   -1.022</td> <td> 0.307</td> <td>-5.15e+04</td> <td> 1.62e+04</td>\n",
       "</tr>\n",
       "<tr>\n",
       "  <th>BsmtExposure_No</th>       <td>-1.897e+04</td> <td> 1.72e+04</td> <td>   -1.101</td> <td> 0.271</td> <td>-5.28e+04</td> <td> 1.49e+04</td>\n",
       "</tr>\n",
       "<tr>\n",
       "  <th>BsmtExposure_none</th>     <td>-2.922e+04</td> <td> 2.15e+04</td> <td>   -1.360</td> <td> 0.174</td> <td>-7.14e+04</td> <td> 1.29e+04</td>\n",
       "</tr>\n",
       "<tr>\n",
       "  <th>BsmtFinType1_ALQ</th>      <td>-1.159e+04</td> <td> 1.15e+04</td> <td>   -1.008</td> <td> 0.313</td> <td>-3.41e+04</td> <td>  1.1e+04</td>\n",
       "</tr>\n",
       "<tr>\n",
       "  <th>BsmtFinType1_BLQ</th>      <td>-1.388e+04</td> <td> 1.14e+04</td> <td>   -1.214</td> <td> 0.225</td> <td>-3.63e+04</td> <td> 8552.621</td>\n",
       "</tr>\n",
       "<tr>\n",
       "  <th>BsmtFinType1_GLQ</th>      <td>-5455.1721</td> <td> 1.16e+04</td> <td>   -0.470</td> <td> 0.639</td> <td>-2.82e+04</td> <td> 1.73e+04</td>\n",
       "</tr>\n",
       "<tr>\n",
       "  <th>BsmtFinType1_LwQ</th>      <td>-2.083e+04</td> <td> 1.16e+04</td> <td>   -1.793</td> <td> 0.073</td> <td>-4.36e+04</td> <td> 1964.533</td>\n",
       "</tr>\n",
       "<tr>\n",
       "  <th>BsmtFinType1_Rec</th>      <td>-1.445e+04</td> <td> 1.15e+04</td> <td>   -1.254</td> <td> 0.210</td> <td>-3.71e+04</td> <td> 8164.568</td>\n",
       "</tr>\n",
       "<tr>\n",
       "  <th>BsmtFinType1_Unf</th>      <td>-9487.0130</td> <td> 1.16e+04</td> <td>   -0.821</td> <td> 0.412</td> <td>-3.22e+04</td> <td> 1.32e+04</td>\n",
       "</tr>\n",
       "<tr>\n",
       "  <th>BsmtFinType1_none</th>     <td>-1.012e+04</td> <td> 1.52e+04</td> <td>   -0.665</td> <td> 0.506</td> <td>   -4e+04</td> <td> 1.97e+04</td>\n",
       "</tr>\n",
       "<tr>\n",
       "  <th>BsmtFinType2_ALQ</th>      <td>-3787.1003</td> <td> 1.24e+04</td> <td>   -0.307</td> <td> 0.759</td> <td> -2.8e+04</td> <td> 2.05e+04</td>\n",
       "</tr>\n",
       "<tr>\n",
       "  <th>BsmtFinType2_BLQ</th>      <td>-2.203e+04</td> <td> 1.19e+04</td> <td>   -1.850</td> <td> 0.065</td> <td>-4.54e+04</td> <td> 1333.080</td>\n",
       "</tr>\n",
       "<tr>\n",
       "  <th>BsmtFinType2_GLQ</th>      <td>-9834.0000</td> <td> 1.29e+04</td> <td>   -0.765</td> <td> 0.444</td> <td>-3.51e+04</td> <td> 1.54e+04</td>\n",
       "</tr>\n",
       "<tr>\n",
       "  <th>BsmtFinType2_LwQ</th>      <td>-1.477e+04</td> <td> 1.17e+04</td> <td>   -1.262</td> <td> 0.207</td> <td>-3.77e+04</td> <td> 8185.253</td>\n",
       "</tr>\n",
       "<tr>\n",
       "  <th>BsmtFinType2_Rec</th>      <td>-1.117e+04</td> <td> 1.18e+04</td> <td>   -0.949</td> <td> 0.343</td> <td>-3.43e+04</td> <td> 1.19e+04</td>\n",
       "</tr>\n",
       "<tr>\n",
       "  <th>BsmtFinType2_Unf</th>      <td>-1.411e+04</td> <td> 1.18e+04</td> <td>   -1.193</td> <td> 0.233</td> <td>-3.73e+04</td> <td> 9102.427</td>\n",
       "</tr>\n",
       "<tr>\n",
       "  <th>BsmtFinType2_none</th>     <td>-1.012e+04</td> <td> 1.52e+04</td> <td>   -0.665</td> <td> 0.506</td> <td>   -4e+04</td> <td> 1.97e+04</td>\n",
       "</tr>\n",
       "<tr>\n",
       "  <th>Heating_Floor</th>         <td>-1.327e+04</td> <td> 2.01e+04</td> <td>   -0.660</td> <td> 0.509</td> <td>-5.27e+04</td> <td> 2.62e+04</td>\n",
       "</tr>\n",
       "<tr>\n",
       "  <th>Heating_GasA</th>          <td>-8337.6189</td> <td> 1.48e+04</td> <td>   -0.565</td> <td> 0.573</td> <td>-3.73e+04</td> <td> 2.06e+04</td>\n",
       "</tr>\n",
       "<tr>\n",
       "  <th>Heating_GasW</th>          <td>-2.177e+04</td> <td> 1.51e+04</td> <td>   -1.441</td> <td> 0.150</td> <td>-5.14e+04</td> <td> 7880.150</td>\n",
       "</tr>\n",
       "<tr>\n",
       "  <th>Heating_Grav</th>          <td>-2.227e+04</td> <td> 1.63e+04</td> <td>   -1.370</td> <td> 0.171</td> <td>-5.42e+04</td> <td> 9627.886</td>\n",
       "</tr>\n",
       "<tr>\n",
       "  <th>Heating_OthW</th>          <td>-1.603e+04</td> <td> 2.21e+04</td> <td>   -0.725</td> <td> 0.468</td> <td>-5.94e+04</td> <td> 2.73e+04</td>\n",
       "</tr>\n",
       "<tr>\n",
       "  <th>Heating_Wall</th>          <td>-4134.3540</td> <td>  1.8e+04</td> <td>   -0.230</td> <td> 0.818</td> <td>-3.94e+04</td> <td> 3.12e+04</td>\n",
       "</tr>\n",
       "<tr>\n",
       "  <th>HeatingQC_Ex</th>          <td>  -1.5e+04</td> <td> 1.71e+04</td> <td>   -0.878</td> <td> 0.380</td> <td>-4.85e+04</td> <td> 1.85e+04</td>\n",
       "</tr>\n",
       "<tr>\n",
       "  <th>HeatingQC_Fa</th>          <td> -1.45e+04</td> <td> 1.76e+04</td> <td>   -0.824</td> <td> 0.410</td> <td> -4.9e+04</td> <td>    2e+04</td>\n",
       "</tr>\n",
       "<tr>\n",
       "  <th>HeatingQC_Gd</th>          <td>-1.774e+04</td> <td>  1.7e+04</td> <td>   -1.041</td> <td> 0.298</td> <td>-5.12e+04</td> <td> 1.57e+04</td>\n",
       "</tr>\n",
       "<tr>\n",
       "  <th>HeatingQC_Po</th>          <td>-1.942e+04</td> <td> 2.37e+04</td> <td>   -0.821</td> <td> 0.412</td> <td>-6.58e+04</td> <td>  2.7e+04</td>\n",
       "</tr>\n",
       "<tr>\n",
       "  <th>HeatingQC_TA</th>          <td>-1.916e+04</td> <td> 1.72e+04</td> <td>   -1.114</td> <td> 0.265</td> <td>-5.29e+04</td> <td> 1.46e+04</td>\n",
       "</tr>\n",
       "<tr>\n",
       "  <th>CentralAir_N</th>          <td>-4.449e+04</td> <td> 4.15e+04</td> <td>   -1.072</td> <td> 0.284</td> <td>-1.26e+05</td> <td> 3.69e+04</td>\n",
       "</tr>\n",
       "<tr>\n",
       "  <th>CentralAir_Y</th>          <td>-4.132e+04</td> <td> 4.15e+04</td> <td>   -0.997</td> <td> 0.319</td> <td>-1.23e+05</td> <td>    4e+04</td>\n",
       "</tr>\n",
       "<tr>\n",
       "  <th>Electrical_FuseA</th>      <td>-1.466e+04</td> <td> 1.48e+04</td> <td>   -0.990</td> <td> 0.322</td> <td>-4.37e+04</td> <td> 1.44e+04</td>\n",
       "</tr>\n",
       "<tr>\n",
       "  <th>Electrical_FuseF</th>      <td>-1.793e+04</td> <td> 1.48e+04</td> <td>   -1.208</td> <td> 0.227</td> <td>-4.71e+04</td> <td> 1.12e+04</td>\n",
       "</tr>\n",
       "<tr>\n",
       "  <th>Electrical_FuseP</th>      <td>-1.893e+04</td> <td> 2.17e+04</td> <td>   -0.870</td> <td> 0.384</td> <td>-6.16e+04</td> <td> 2.37e+04</td>\n",
       "</tr>\n",
       "<tr>\n",
       "  <th>Electrical_Mix</th>        <td>-1.638e+04</td> <td> 1.95e+04</td> <td>   -0.842</td> <td> 0.400</td> <td>-5.46e+04</td> <td> 2.18e+04</td>\n",
       "</tr>\n",
       "<tr>\n",
       "  <th>Electrical_SBrkr</th>      <td>-1.642e+04</td> <td> 1.48e+04</td> <td>   -1.111</td> <td> 0.267</td> <td>-4.54e+04</td> <td> 1.26e+04</td>\n",
       "</tr>\n",
       "<tr>\n",
       "  <th>Electrical_none</th>       <td>-1491.5456</td> <td> 2.09e+04</td> <td>   -0.071</td> <td> 0.943</td> <td>-4.25e+04</td> <td> 3.95e+04</td>\n",
       "</tr>\n",
       "<tr>\n",
       "  <th>KitchenQual_Ex</th>        <td>-3419.5132</td> <td> 2.09e+04</td> <td>   -0.164</td> <td> 0.870</td> <td>-4.45e+04</td> <td> 3.76e+04</td>\n",
       "</tr>\n",
       "<tr>\n",
       "  <th>KitchenQual_Fa</th>        <td>-2.696e+04</td> <td>  2.1e+04</td> <td>   -1.285</td> <td> 0.199</td> <td>-6.81e+04</td> <td> 1.42e+04</td>\n",
       "</tr>\n",
       "<tr>\n",
       "  <th>KitchenQual_Gd</th>        <td>-2.611e+04</td> <td> 2.08e+04</td> <td>   -1.254</td> <td> 0.210</td> <td> -6.7e+04</td> <td> 1.47e+04</td>\n",
       "</tr>\n",
       "<tr>\n",
       "  <th>KitchenQual_TA</th>        <td>-2.933e+04</td> <td> 2.08e+04</td> <td>   -1.413</td> <td> 0.158</td> <td>-7.01e+04</td> <td> 1.14e+04</td>\n",
       "</tr>\n",
       "<tr>\n",
       "  <th>Functional_Maj1</th>       <td>-4181.2769</td> <td> 1.49e+04</td> <td>   -0.282</td> <td> 0.778</td> <td>-3.33e+04</td> <td>  2.5e+04</td>\n",
       "</tr>\n",
       "<tr>\n",
       "  <th>Functional_Maj2</th>       <td>-2.678e+04</td> <td> 1.74e+04</td> <td>   -1.539</td> <td> 0.124</td> <td>-6.09e+04</td> <td> 7366.341</td>\n",
       "</tr>\n",
       "<tr>\n",
       "  <th>Functional_Min1</th>       <td>-1.878e+04</td> <td> 1.43e+04</td> <td>   -1.309</td> <td> 0.191</td> <td>-4.69e+04</td> <td> 9368.016</td>\n",
       "</tr>\n",
       "<tr>\n",
       "  <th>Functional_Min2</th>       <td>-1.357e+04</td> <td> 1.48e+04</td> <td>   -0.914</td> <td> 0.361</td> <td>-4.27e+04</td> <td> 1.56e+04</td>\n",
       "</tr>\n",
       "<tr>\n",
       "  <th>Functional_Mod</th>        <td>-2.069e+04</td> <td> 1.53e+04</td> <td>   -1.355</td> <td> 0.176</td> <td>-5.07e+04</td> <td> 9266.333</td>\n",
       "</tr>\n",
       "<tr>\n",
       "  <th>Functional_Typ</th>        <td>-1808.0011</td> <td> 1.41e+04</td> <td>   -0.128</td> <td> 0.898</td> <td>-2.94e+04</td> <td> 2.58e+04</td>\n",
       "</tr>\n",
       "<tr>\n",
       "  <th>FireplaceQu_Ex</th>        <td>-1.943e+04</td> <td> 1.46e+04</td> <td>   -1.327</td> <td> 0.185</td> <td>-4.82e+04</td> <td> 9300.904</td>\n",
       "</tr>\n",
       "<tr>\n",
       "  <th>FireplaceQu_Fa</th>        <td>-1.648e+04</td> <td> 1.44e+04</td> <td>   -1.143</td> <td> 0.253</td> <td>-4.48e+04</td> <td> 1.18e+04</td>\n",
       "</tr>\n",
       "<tr>\n",
       "  <th>FireplaceQu_Gd</th>        <td>-9785.4131</td> <td> 1.38e+04</td> <td>   -0.708</td> <td> 0.479</td> <td>-3.69e+04</td> <td> 1.73e+04</td>\n",
       "</tr>\n",
       "<tr>\n",
       "  <th>FireplaceQu_Po</th>        <td>-1.577e+04</td> <td> 1.43e+04</td> <td>   -1.101</td> <td> 0.271</td> <td>-4.39e+04</td> <td> 1.23e+04</td>\n",
       "</tr>\n",
       "<tr>\n",
       "  <th>FireplaceQu_TA</th>        <td>-1.149e+04</td> <td> 1.39e+04</td> <td>   -0.829</td> <td> 0.407</td> <td>-3.87e+04</td> <td> 1.57e+04</td>\n",
       "</tr>\n",
       "<tr>\n",
       "  <th>FireplaceQu_none</th>      <td>-1.286e+04</td> <td> 1.42e+04</td> <td>   -0.905</td> <td> 0.366</td> <td>-4.07e+04</td> <td>  1.5e+04</td>\n",
       "</tr>\n",
       "<tr>\n",
       "  <th>GarageType_2Types</th>     <td>  -2.4e+04</td> <td> 1.36e+04</td> <td>   -1.765</td> <td> 0.078</td> <td>-5.07e+04</td> <td> 2682.302</td>\n",
       "</tr>\n",
       "<tr>\n",
       "  <th>GarageType_Attchd</th>     <td>-9914.9878</td> <td> 1.15e+04</td> <td>   -0.859</td> <td> 0.391</td> <td>-3.26e+04</td> <td> 1.27e+04</td>\n",
       "</tr>\n",
       "<tr>\n",
       "  <th>GarageType_Basment</th>    <td>-6701.9164</td> <td> 1.33e+04</td> <td>   -0.506</td> <td> 0.613</td> <td>-3.27e+04</td> <td> 1.93e+04</td>\n",
       "</tr>\n",
       "<tr>\n",
       "  <th>GarageType_BuiltIn</th>    <td>-8807.7726</td> <td> 1.19e+04</td> <td>   -0.738</td> <td> 0.461</td> <td>-3.22e+04</td> <td> 1.46e+04</td>\n",
       "</tr>\n",
       "<tr>\n",
       "  <th>GarageType_CarPort</th>    <td>-1.236e+04</td> <td> 1.48e+04</td> <td>   -0.835</td> <td> 0.404</td> <td>-4.14e+04</td> <td> 1.67e+04</td>\n",
       "</tr>\n",
       "<tr>\n",
       "  <th>GarageType_Detchd</th>     <td>-1.089e+04</td> <td> 1.16e+04</td> <td>   -0.937</td> <td> 0.349</td> <td>-3.37e+04</td> <td> 1.19e+04</td>\n",
       "</tr>\n",
       "<tr>\n",
       "  <th>GarageType_none</th>       <td>-1.314e+04</td> <td> 1.54e+04</td> <td>   -0.856</td> <td> 0.392</td> <td>-4.33e+04</td> <td>  1.7e+04</td>\n",
       "</tr>\n",
       "<tr>\n",
       "  <th>GarageFinish_Fin</th>      <td>-2.167e+04</td> <td> 2.26e+04</td> <td>   -0.958</td> <td> 0.338</td> <td>-6.61e+04</td> <td> 2.27e+04</td>\n",
       "</tr>\n",
       "<tr>\n",
       "  <th>GarageFinish_RFn</th>      <td>-2.712e+04</td> <td> 2.25e+04</td> <td>   -1.203</td> <td> 0.229</td> <td>-7.14e+04</td> <td> 1.71e+04</td>\n",
       "</tr>\n",
       "<tr>\n",
       "  <th>GarageFinish_Unf</th>      <td>-2.388e+04</td> <td> 2.25e+04</td> <td>   -1.060</td> <td> 0.289</td> <td>-6.81e+04</td> <td> 2.03e+04</td>\n",
       "</tr>\n",
       "<tr>\n",
       "  <th>GarageFinish_none</th>     <td>-1.314e+04</td> <td> 1.54e+04</td> <td>   -0.856</td> <td> 0.392</td> <td>-4.33e+04</td> <td>  1.7e+04</td>\n",
       "</tr>\n",
       "<tr>\n",
       "  <th>GarageQual_Ex</th>         <td>-1.117e+04</td> <td> 1.51e+04</td> <td>   -0.739</td> <td> 0.460</td> <td>-4.08e+04</td> <td> 1.85e+04</td>\n",
       "</tr>\n",
       "<tr>\n",
       "  <th>GarageQual_Fa</th>         <td>-1.945e+04</td> <td> 1.47e+04</td> <td>   -1.325</td> <td> 0.185</td> <td>-4.82e+04</td> <td> 9350.933</td>\n",
       "</tr>\n",
       "<tr>\n",
       "  <th>GarageQual_Gd</th>         <td>-8904.2989</td> <td> 1.58e+04</td> <td>   -0.564</td> <td> 0.573</td> <td>-3.99e+04</td> <td> 2.21e+04</td>\n",
       "</tr>\n",
       "<tr>\n",
       "  <th>GarageQual_Po</th>         <td>-1.992e+04</td> <td> 2.01e+04</td> <td>   -0.989</td> <td> 0.323</td> <td>-5.94e+04</td> <td> 1.96e+04</td>\n",
       "</tr>\n",
       "<tr>\n",
       "  <th>GarageQual_TA</th>         <td>-1.323e+04</td> <td> 1.51e+04</td> <td>   -0.877</td> <td> 0.381</td> <td>-4.28e+04</td> <td> 1.64e+04</td>\n",
       "</tr>\n",
       "<tr>\n",
       "  <th>GarageQual_none</th>       <td>-1.314e+04</td> <td> 1.54e+04</td> <td>   -0.856</td> <td> 0.392</td> <td>-4.33e+04</td> <td>  1.7e+04</td>\n",
       "</tr>\n",
       "<tr>\n",
       "  <th>GarageCond_Ex</th>         <td>-1.117e+04</td> <td> 1.51e+04</td> <td>   -0.739</td> <td> 0.460</td> <td>-4.08e+04</td> <td> 1.85e+04</td>\n",
       "</tr>\n",
       "<tr>\n",
       "  <th>GarageCond_Fa</th>         <td>-2.008e+04</td> <td> 1.42e+04</td> <td>   -1.416</td> <td> 0.157</td> <td>-4.79e+04</td> <td> 7751.205</td>\n",
       "</tr>\n",
       "<tr>\n",
       "  <th>GarageCond_Gd</th>         <td>-1.452e+04</td> <td> 1.44e+04</td> <td>   -1.006</td> <td> 0.315</td> <td>-4.28e+04</td> <td> 1.38e+04</td>\n",
       "</tr>\n",
       "<tr>\n",
       "  <th>GarageCond_Po</th>         <td>-1.343e+04</td> <td> 1.72e+04</td> <td>   -0.781</td> <td> 0.435</td> <td>-4.71e+04</td> <td> 2.03e+04</td>\n",
       "</tr>\n",
       "<tr>\n",
       "  <th>GarageCond_TA</th>         <td>-1.348e+04</td> <td>  1.4e+04</td> <td>   -0.964</td> <td> 0.335</td> <td>-4.09e+04</td> <td>  1.4e+04</td>\n",
       "</tr>\n",
       "<tr>\n",
       "  <th>GarageCond_none</th>       <td>-1.314e+04</td> <td> 1.54e+04</td> <td>   -0.856</td> <td> 0.392</td> <td>-4.33e+04</td> <td>  1.7e+04</td>\n",
       "</tr>\n",
       "<tr>\n",
       "  <th>PavedDrive_N</th>          <td>-2.487e+04</td> <td> 2.79e+04</td> <td>   -0.893</td> <td> 0.372</td> <td>-7.95e+04</td> <td> 2.98e+04</td>\n",
       "</tr>\n",
       "<tr>\n",
       "  <th>PavedDrive_P</th>          <td>-3.385e+04</td> <td> 2.76e+04</td> <td>   -1.226</td> <td> 0.220</td> <td> -8.8e+04</td> <td> 2.03e+04</td>\n",
       "</tr>\n",
       "<tr>\n",
       "  <th>PavedDrive_Y</th>          <td>-2.709e+04</td> <td> 2.77e+04</td> <td>   -0.977</td> <td> 0.329</td> <td>-8.15e+04</td> <td> 2.73e+04</td>\n",
       "</tr>\n",
       "<tr>\n",
       "  <th>PoolQC_Fa</th>             <td>-2.078e+04</td> <td> 1.31e+04</td> <td>   -1.591</td> <td> 0.112</td> <td>-4.64e+04</td> <td> 4849.137</td>\n",
       "</tr>\n",
       "<tr>\n",
       "  <th>PoolQC_Gd</th>             <td> 1.872e+04</td> <td> 1.18e+04</td> <td>    1.591</td> <td> 0.112</td> <td>-4369.109</td> <td> 4.18e+04</td>\n",
       "</tr>\n",
       "<tr>\n",
       "  <th>PoolQC_none</th>           <td>-8.376e+04</td> <td>  8.2e+04</td> <td>   -1.021</td> <td> 0.307</td> <td>-2.45e+05</td> <td> 7.72e+04</td>\n",
       "</tr>\n",
       "<tr>\n",
       "  <th>Fence_GdPrv</th>           <td> -1.73e+04</td> <td> 1.69e+04</td> <td>   -1.022</td> <td> 0.307</td> <td>-5.05e+04</td> <td> 1.59e+04</td>\n",
       "</tr>\n",
       "<tr>\n",
       "  <th>Fence_GdWo</th>            <td>-1.583e+04</td> <td> 1.69e+04</td> <td>   -0.938</td> <td> 0.348</td> <td>-4.89e+04</td> <td> 1.73e+04</td>\n",
       "</tr>\n",
       "<tr>\n",
       "  <th>Fence_MnPrv</th>           <td>-1.366e+04</td> <td> 1.67e+04</td> <td>   -0.817</td> <td> 0.414</td> <td>-4.65e+04</td> <td> 1.92e+04</td>\n",
       "</tr>\n",
       "<tr>\n",
       "  <th>Fence_MnWw</th>            <td>-2.509e+04</td> <td> 1.71e+04</td> <td>   -1.463</td> <td> 0.144</td> <td>-5.87e+04</td> <td> 8551.461</td>\n",
       "</tr>\n",
       "<tr>\n",
       "  <th>Fence_none</th>            <td>-1.394e+04</td> <td> 1.66e+04</td> <td>   -0.840</td> <td> 0.401</td> <td>-4.65e+04</td> <td> 1.86e+04</td>\n",
       "</tr>\n",
       "<tr>\n",
       "  <th>MiscFeature_Gar2</th>      <td>-9.537e+04</td> <td> 7.05e+04</td> <td>   -1.354</td> <td> 0.176</td> <td>-2.34e+05</td> <td> 4.29e+04</td>\n",
       "</tr>\n",
       "<tr>\n",
       "  <th>MiscFeature_Othr</th>      <td>   1.6e+04</td> <td> 3.17e+04</td> <td>    0.504</td> <td> 0.614</td> <td>-4.62e+04</td> <td> 7.82e+04</td>\n",
       "</tr>\n",
       "<tr>\n",
       "  <th>MiscFeature_Shed</th>      <td> 6291.3396</td> <td> 2.65e+04</td> <td>    0.238</td> <td> 0.812</td> <td>-4.57e+04</td> <td> 5.83e+04</td>\n",
       "</tr>\n",
       "<tr>\n",
       "  <th>MiscFeature_TenC</th>      <td>-2.078e+04</td> <td> 1.31e+04</td> <td>   -1.591</td> <td> 0.112</td> <td>-4.64e+04</td> <td> 4849.137</td>\n",
       "</tr>\n",
       "<tr>\n",
       "  <th>MiscFeature_none</th>      <td> 8044.7937</td> <td> 2.94e+04</td> <td>    0.273</td> <td> 0.785</td> <td>-4.97e+04</td> <td> 6.58e+04</td>\n",
       "</tr>\n",
       "<tr>\n",
       "  <th>SaleType_COD</th>          <td>-1.522e+04</td> <td> 1.05e+04</td> <td>   -1.456</td> <td> 0.146</td> <td>-3.57e+04</td> <td> 5288.361</td>\n",
       "</tr>\n",
       "<tr>\n",
       "  <th>SaleType_CWD</th>          <td> 2.499e+04</td> <td> 1.31e+04</td> <td>    1.911</td> <td> 0.056</td> <td> -673.190</td> <td> 5.07e+04</td>\n",
       "</tr>\n",
       "<tr>\n",
       "  <th>SaleType_Con</th>          <td> 1.325e+04</td> <td> 1.61e+04</td> <td>    0.822</td> <td> 0.411</td> <td>-1.84e+04</td> <td> 4.49e+04</td>\n",
       "</tr>\n",
       "<tr>\n",
       "  <th>SaleType_ConLD</th>        <td>-7307.5291</td> <td> 1.17e+04</td> <td>   -0.627</td> <td> 0.531</td> <td>-3.02e+04</td> <td> 1.56e+04</td>\n",
       "</tr>\n",
       "<tr>\n",
       "  <th>SaleType_ConLI</th>        <td>-1.545e+04</td> <td> 1.58e+04</td> <td>   -0.977</td> <td> 0.329</td> <td>-4.65e+04</td> <td> 1.56e+04</td>\n",
       "</tr>\n",
       "<tr>\n",
       "  <th>SaleType_ConLw</th>        <td>-7603.1367</td> <td> 1.34e+04</td> <td>   -0.569</td> <td> 0.569</td> <td>-3.38e+04</td> <td> 1.86e+04</td>\n",
       "</tr>\n",
       "<tr>\n",
       "  <th>SaleType_New</th>          <td>-4.629e+04</td> <td> 1.92e+04</td> <td>   -2.411</td> <td> 0.016</td> <td> -8.4e+04</td> <td>-8625.290</td>\n",
       "</tr>\n",
       "<tr>\n",
       "  <th>SaleType_Oth</th>          <td>-1.253e+04</td> <td> 1.39e+04</td> <td>   -0.902</td> <td> 0.367</td> <td>-3.98e+04</td> <td> 1.47e+04</td>\n",
       "</tr>\n",
       "<tr>\n",
       "  <th>SaleType_WD</th>           <td>-1.964e+04</td> <td> 9869.291</td> <td>   -1.990</td> <td> 0.047</td> <td> -3.9e+04</td> <td> -276.120</td>\n",
       "</tr>\n",
       "<tr>\n",
       "  <th>SaleCondition_Abnorml</th> <td>-3.132e+04</td> <td> 1.44e+04</td> <td>   -2.170</td> <td> 0.030</td> <td>-5.97e+04</td> <td>-2998.141</td>\n",
       "</tr>\n",
       "<tr>\n",
       "  <th>SaleCondition_AdjLand</th> <td>-1.761e+04</td> <td> 1.72e+04</td> <td>   -1.026</td> <td> 0.305</td> <td>-5.13e+04</td> <td> 1.61e+04</td>\n",
       "</tr>\n",
       "<tr>\n",
       "  <th>SaleCondition_Alloca</th>  <td>-1.067e+04</td> <td> 1.65e+04</td> <td>   -0.646</td> <td> 0.518</td> <td>-4.31e+04</td> <td> 2.17e+04</td>\n",
       "</tr>\n",
       "<tr>\n",
       "  <th>SaleCondition_Family</th>  <td>-2.488e+04</td> <td> 1.47e+04</td> <td>   -1.688</td> <td> 0.092</td> <td>-5.38e+04</td> <td> 4049.024</td>\n",
       "</tr>\n",
       "<tr>\n",
       "  <th>SaleCondition_Normal</th>  <td>-1.986e+04</td> <td> 1.45e+04</td> <td>   -1.371</td> <td> 0.171</td> <td>-4.83e+04</td> <td> 8563.696</td>\n",
       "</tr>\n",
       "<tr>\n",
       "  <th>SaleCondition_Partial</th> <td> 1.853e+04</td> <td> 2.09e+04</td> <td>    0.885</td> <td> 0.376</td> <td>-2.25e+04</td> <td> 5.96e+04</td>\n",
       "</tr>\n",
       "</table>\n",
       "<table class=\"simpletable\">\n",
       "<tr>\n",
       "  <th>Omnibus:</th>       <td>210.367</td> <th>  Durbin-Watson:     </th> <td>   1.943</td>\n",
       "</tr>\n",
       "<tr>\n",
       "  <th>Prob(Omnibus):</th> <td> 0.000</td>  <th>  Jarque-Bera (JB):  </th> <td>3135.772</td>\n",
       "</tr>\n",
       "<tr>\n",
       "  <th>Skew:</th>          <td> 0.162</td>  <th>  Prob(JB):          </th> <td>    0.00</td>\n",
       "</tr>\n",
       "<tr>\n",
       "  <th>Kurtosis:</th>      <td>10.524</td>  <th>  Cond. No.          </th> <td>5.20e+17</td>\n",
       "</tr>\n",
       "</table><br/><br/>Notes:<br/>[1] Standard Errors assume that the covariance matrix of the errors is correctly specified.<br/>[2] The smallest eigenvalue is 5.58e-25. This might indicate that there are<br/>strong multicollinearity problems or that the design matrix is singular."
      ],
      "text/plain": [
       "<class 'statsmodels.iolib.summary.Summary'>\n",
       "\"\"\"\n",
       "                             OLS Regression Results                            \n",
       "===============================================================================\n",
       "Dep. Variable:     Property_Sale_Price   R-squared:                       0.943\n",
       "Model:                             OLS   Adj. R-squared:                  0.930\n",
       "Method:                  Least Squares   F-statistic:                     74.96\n",
       "Date:                 Mon, 21 Jun 2021   Prob (F-statistic):               0.00\n",
       "Time:                         15:41:19   Log-Likelihood:                -14722.\n",
       "No. Observations:                 1327   AIC:                         2.993e+04\n",
       "Df Residuals:                     1086   BIC:                         3.118e+04\n",
       "Df Model:                          240                                         \n",
       "Covariance Type:             nonrobust                                         \n",
       "=========================================================================================\n",
       "                            coef    std err          t      P>|t|      [0.025      0.975]\n",
       "-----------------------------------------------------------------------------------------\n",
       "const                 -8.582e+04   8.29e+04     -1.035      0.301   -2.48e+05    7.68e+04\n",
       "Id                       -1.5580      1.129     -1.380      0.168      -3.773       0.657\n",
       "Dwell_Type               -0.6903      2.592     -0.266      0.790      -5.777       4.396\n",
       "LotFrontage              39.6131     29.755      1.331      0.183     -18.772      97.998\n",
       "LotArea                   0.8330      0.246      3.391      0.001       0.351       1.315\n",
       "OverallQual             591.8105    445.475      1.328      0.184    -282.279    1465.900\n",
       "OverallCond            1763.0009    454.067      3.883      0.000     872.053    2653.949\n",
       "YearBuilt                37.0194     32.913      1.125      0.261     -27.560     101.599\n",
       "YearRemodAdd            145.6166     45.244      3.218      0.001      56.841     234.392\n",
       "MasVnrArea                9.5551      4.988      1.915      0.056      -0.233      19.343\n",
       "BsmtFinSF1               17.1990      2.530      6.799      0.000      12.235      22.163\n",
       "BsmtFinSF2                2.8862      4.982      0.579      0.563      -6.890      12.662\n",
       "BsmtUnfSF                 1.1938      2.337      0.511      0.609      -3.391       5.778\n",
       "TotalBsmtSF              21.2790      3.757      5.664      0.000      13.907      28.651\n",
       "1stFlrSF                 17.9562      5.392      3.330      0.001       7.375      28.537\n",
       "2ndFlrSF                 23.5996      4.381      5.387      0.000      15.003      32.196\n",
       "LowQualFinSF            -10.7894     11.567     -0.933      0.351     -33.486      11.907\n",
       "GrLivArea                30.7664      4.728      6.507      0.000      21.490      40.043\n",
       "BsmtFullBath           1319.9137   1628.416      0.811      0.418   -1875.284    4515.111\n",
       "BsmtHalfBath           1332.2226   2510.254      0.531      0.596   -3593.275    6257.720\n",
       "FullBath               3262.2050   1951.167      1.672      0.095    -566.279    7090.689\n",
       "HalfBath               3972.4826   1791.829      2.217      0.027     456.645    7488.320\n",
       "BedroomAbvGr          -1736.6077   1203.911     -1.442      0.149   -4098.863     625.647\n",
       "KitchenAbvGr          -1.321e+04   4954.128     -2.667      0.008   -2.29e+04   -3492.963\n",
       "TotRmsAbvGrd           -823.6489    812.879     -1.013      0.311   -2418.639     771.341\n",
       "Fireplaces             2965.8889   2533.810      1.171      0.242   -2005.828    7937.606\n",
       "GarageYrBlt             -99.5342     48.842     -2.038      0.042    -195.370      -3.699\n",
       "GarageCars             3892.1763   1913.272      2.034      0.042     138.048    7646.305\n",
       "GarageArea               28.3553      6.710      4.226      0.000      15.190      41.521\n",
       "WoodDeckSF               19.5584      5.186      3.771      0.000       9.383      29.734\n",
       "OpenPorchSF              21.5788     10.040      2.149      0.032       1.879      41.278\n",
       "EnclosedPorch            20.4096     10.946      1.865      0.063      -1.069      41.888\n",
       "3SsnPorch                28.2648     18.692      1.512      0.131      -8.412      64.941\n",
       "ScreenPorch              28.0552     10.996      2.551      0.011       6.479      49.631\n",
       "PoolArea               -106.0142    158.568     -0.669      0.504    -417.148     205.120\n",
       "MiscVal                   8.0502      5.776      1.394      0.164      -3.284      19.384\n",
       "MoSold                   -2.7996    206.267     -0.014      0.989    -407.527     401.928\n",
       "YrSold                  382.0272    447.432      0.854      0.393    -495.901    1259.955\n",
       "Zone_Class_C (all)    -3.553e+04   1.81e+04     -1.960      0.050   -7.11e+04      40.612\n",
       "Zone_Class_FV         -8232.2982   1.72e+04     -0.479      0.632    -4.2e+04    2.55e+04\n",
       "Zone_Class_RH         -1.816e+04   1.72e+04     -1.059      0.290   -5.18e+04    1.55e+04\n",
       "Zone_Class_RL         -1.155e+04   1.67e+04     -0.693      0.488   -4.43e+04    2.11e+04\n",
       "Zone_Class_RM         -1.234e+04   1.68e+04     -0.735      0.462   -4.53e+04    2.06e+04\n",
       "Road_Type_Grvl        -3.448e+04   4.24e+04     -0.813      0.416   -1.18e+05    4.87e+04\n",
       "Road_Type_Pave        -5.134e+04   4.19e+04     -1.225      0.221   -1.34e+05    3.09e+04\n",
       "Alley_Grvl            -3.157e+04   2.77e+04     -1.140      0.255   -8.59e+04    2.28e+04\n",
       "Alley_Pave            -2.478e+04   2.79e+04     -0.888      0.375   -7.96e+04       3e+04\n",
       "Alley_none            -2.946e+04   2.76e+04     -1.066      0.287   -8.37e+04    2.48e+04\n",
       "Property_Shape_IR1      -2.2e+04    2.1e+04     -1.050      0.294   -6.31e+04    1.91e+04\n",
       "Property_Shape_IR2     -2.38e+04   2.12e+04     -1.120      0.263   -6.55e+04    1.79e+04\n",
       "Property_Shape_IR3    -2.003e+04   2.17e+04     -0.924      0.356   -6.25e+04    2.25e+04\n",
       "Property_Shape_Reg    -1.999e+04    2.1e+04     -0.952      0.341   -6.12e+04    2.12e+04\n",
       "LandContour_Bnk       -2.353e+04    2.1e+04     -1.120      0.263   -6.48e+04    1.77e+04\n",
       "LandContour_HLS       -1.616e+04    2.1e+04     -0.769      0.442   -5.74e+04    2.51e+04\n",
       "LandContour_Low       -2.129e+04   2.09e+04     -1.017      0.309   -6.24e+04    1.98e+04\n",
       "LandContour_Lvl       -2.483e+04   2.09e+04     -1.189      0.235   -6.58e+04    1.62e+04\n",
       "Utilities_AllPub      -2.257e+04   4.29e+04     -0.526      0.599   -1.07e+05    6.16e+04\n",
       "Utilities_NoSeWa      -6.324e+04   4.26e+04     -1.486      0.138   -1.47e+05    2.03e+04\n",
       "LotConfig_Corner        -1.4e+04   1.68e+04     -0.833      0.405    -4.7e+04     1.9e+04\n",
       "LotConfig_CulDSac     -1.058e+04   1.71e+04     -0.619      0.536   -4.41e+04     2.3e+04\n",
       "LotConfig_FR2         -2.257e+04    1.7e+04     -1.330      0.184   -5.59e+04    1.07e+04\n",
       "LotConfig_FR3         -2.194e+04   1.87e+04     -1.171      0.242   -5.87e+04    1.48e+04\n",
       "LotConfig_Inside      -1.672e+04   1.68e+04     -0.993      0.321   -4.98e+04    1.63e+04\n",
       "LandSlope_Gtl         -3.085e+04    2.8e+04     -1.103      0.270   -8.57e+04     2.4e+04\n",
       "LandSlope_Mod          -3.08e+04    2.8e+04     -1.101      0.271   -8.57e+04    2.41e+04\n",
       "LandSlope_Sev         -2.417e+04   2.92e+04     -0.827      0.408   -8.15e+04    3.32e+04\n",
       "Neighborhood_Blmngtn  -2284.1943   6994.466     -0.327      0.744    -1.6e+04    1.14e+04\n",
       "Neighborhood_Blueste    482.5528    1.4e+04      0.035      0.972    -2.7e+04    2.79e+04\n",
       "Neighborhood_BrDale    6066.0682   7800.649      0.778      0.437   -9239.980    2.14e+04\n",
       "Neighborhood_BrkSide  -1.109e+04   5064.884     -2.189      0.029    -2.1e+04   -1148.742\n",
       "Neighborhood_ClearCr  -1.104e+04   7157.162     -1.543      0.123   -2.51e+04    3002.110\n",
       "Neighborhood_CollgCr  -7062.7443   4179.570     -1.690      0.091   -1.53e+04    1138.202\n",
       "Neighborhood_Crawfor   7137.5780   4916.282      1.452      0.147   -2508.909    1.68e+04\n",
       "Neighborhood_Edwards  -2.342e+04   4412.406     -5.307      0.000   -3.21e+04   -1.48e+04\n",
       "Neighborhood_Gilbert  -6953.2147   4590.653     -1.515      0.130    -1.6e+04    2054.338\n",
       "Neighborhood_IDOTRR   -1.956e+04   5941.207     -3.293      0.001   -3.12e+04   -7907.246\n",
       "Neighborhood_MeadowV  -2.136e+04   7887.572     -2.708      0.007   -3.68e+04   -5879.729\n",
       "Neighborhood_Mitchel  -1.837e+04   4565.426     -4.024      0.000   -2.73e+04   -9412.514\n",
       "Neighborhood_NAmes    -1.696e+04   4069.457     -4.168      0.000   -2.49e+04   -8975.947\n",
       "Neighborhood_NPkVill   2.122e+04   9426.217      2.251      0.025    2723.361    3.97e+04\n",
       "Neighborhood_NWAmes   -1.423e+04   4504.985     -3.158      0.002   -2.31e+04   -5386.193\n",
       "Neighborhood_NoRidge   2.055e+04   5350.068      3.841      0.000    1.01e+04     3.1e+04\n",
       "Neighborhood_NridgHt   1.939e+04   4890.964      3.964      0.000    9792.724     2.9e+04\n",
       "Neighborhood_OldTown   -2.49e+04   5029.000     -4.951      0.000   -3.48e+04    -1.5e+04\n",
       "Neighborhood_SWISU    -1.576e+04   6801.356     -2.317      0.021   -2.91e+04   -2413.780\n",
       "Neighborhood_Sawyer   -9129.1826   4320.021     -2.113      0.035   -1.76e+04    -652.651\n",
       "Neighborhood_SawyerW  -2504.8556   4630.312     -0.541      0.589   -1.16e+04    6580.515\n",
       "Neighborhood_Somerst   5969.7961   5445.659      1.096      0.273   -4715.407    1.67e+04\n",
       "Neighborhood_StoneBr   3.162e+04   5793.705      5.458      0.000    2.03e+04     4.3e+04\n",
       "Neighborhood_Timber   -5870.4758   5308.961     -1.106      0.269   -1.63e+04    4546.506\n",
       "Neighborhood_Veenker   1.223e+04   8730.292      1.401      0.161   -4897.636    2.94e+04\n",
       "Condition1_Artery     -1.492e+04   9903.972     -1.507      0.132   -3.44e+04    4508.833\n",
       "Condition1_Feedr      -1.425e+04   9785.535     -1.456      0.146   -3.35e+04    4948.643\n",
       "Condition1_Norm       -2780.9532   9435.753     -0.295      0.768   -2.13e+04    1.57e+04\n",
       "Condition1_PosA        4633.1295   1.22e+04      0.381      0.703   -1.92e+04    2.85e+04\n",
       "Condition1_PosN       -9186.0435   1.11e+04     -0.830      0.407   -3.09e+04    1.25e+04\n",
       "Condition1_RRAe       -2.032e+04   1.14e+04     -1.784      0.075   -4.27e+04    2024.452\n",
       "Condition1_RRAn        -1.04e+04   1.03e+04     -1.006      0.315   -3.07e+04    9885.399\n",
       "Condition1_RRNe       -1.658e+04   1.52e+04     -1.089      0.276   -4.65e+04    1.33e+04\n",
       "Condition1_RRNn       -2013.4296   1.19e+04     -0.169      0.865   -2.53e+04    2.13e+04\n",
       "Condition2_Artery     -3.213e+04   2.54e+04     -1.266      0.206    -8.2e+04    1.77e+04\n",
       "Condition2_Feedr      -1.347e+04   1.94e+04     -0.695      0.487   -5.15e+04    2.46e+04\n",
       "Condition2_Norm       -2.956e+04   1.57e+04     -1.879      0.061   -6.04e+04    1313.600\n",
       "Condition2_PosA        3.211e+04   2.91e+04      1.103      0.270    -2.5e+04    8.92e+04\n",
       "Condition2_RRAn       -3.353e+04   1.91e+04     -1.755      0.080    -7.1e+04    3956.479\n",
       "Condition2_RRNn       -9226.7233   2.19e+04     -0.421      0.674   -5.23e+04    3.38e+04\n",
       "Dwelling_Type_1Fam    -4778.2164    1.7e+04     -0.282      0.778   -3.81e+04    2.85e+04\n",
       "Dwelling_Type_2fmCon  -7336.5853    1.7e+04     -0.432      0.666   -4.07e+04     2.6e+04\n",
       "Dwelling_Type_Duplex  -2.225e+04    1.7e+04     -1.305      0.192   -5.57e+04    1.12e+04\n",
       "Dwelling_Type_Twnhs   -2.622e+04   1.71e+04     -1.530      0.126   -5.98e+04    7399.364\n",
       "Dwelling_Type_TwnhsE  -2.523e+04   1.69e+04     -1.492      0.136   -5.84e+04    7948.087\n",
       "HouseStyle_1.5Fin     -8843.4486   1.07e+04     -0.825      0.410   -2.99e+04    1.22e+04\n",
       "HouseStyle_1.5Unf       941.8527   1.17e+04      0.081      0.936    -2.2e+04    2.38e+04\n",
       "HouseStyle_1Story     -7146.9275   1.06e+04     -0.673      0.501    -2.8e+04    1.37e+04\n",
       "HouseStyle_2.5Fin     -2.421e+04    1.6e+04     -1.513      0.131   -5.56e+04    7185.080\n",
       "HouseStyle_2.5Unf      -1.57e+04   1.22e+04     -1.282      0.200   -3.97e+04    8319.834\n",
       "HouseStyle_2Story     -1.113e+04   1.07e+04     -1.038      0.300   -3.22e+04    9912.606\n",
       "HouseStyle_SFoyer     -9704.0990   1.12e+04     -0.870      0.384   -3.16e+04    1.22e+04\n",
       "HouseStyle_SLvl       -1.003e+04   1.09e+04     -0.922      0.357   -3.14e+04    1.13e+04\n",
       "RoofStyle_Flat        -1.681e+04   2.35e+04     -0.716      0.474   -6.29e+04    2.93e+04\n",
       "RoofStyle_Gable       -2.606e+04   1.74e+04     -1.498      0.134   -6.02e+04    8065.824\n",
       "RoofStyle_Gambrel     -1.092e+04   1.81e+04     -0.603      0.546   -4.64e+04    2.46e+04\n",
       "RoofStyle_Hip         -2.384e+04   1.74e+04     -1.373      0.170   -5.79e+04    1.02e+04\n",
       "RoofStyle_Mansard     -8188.0375   1.89e+04     -0.434      0.665   -4.52e+04    2.89e+04\n",
       "RoofMatl_CompShg      -1.898e+04   2.22e+04     -0.855      0.393   -6.25e+04    2.46e+04\n",
       "RoofMatl_Roll          3.253e-10   2.88e-10      1.130      0.259   -2.39e-10     8.9e-10\n",
       "RoofMatl_Tar&Grv      -3.669e+04   2.87e+04     -1.280      0.201   -9.29e+04    1.95e+04\n",
       "RoofMatl_WdShake      -3.109e+04   2.36e+04     -1.317      0.188   -7.74e+04    1.52e+04\n",
       "RoofMatl_WdShngl        940.0541   2.35e+04      0.040      0.968   -4.52e+04    4.71e+04\n",
       "Exterior1st_AsbShng    1.043e+04   1.17e+04      0.892      0.373   -1.25e+04    3.34e+04\n",
       "Exterior1st_AsphShn    3.331e+04    2.5e+04      1.332      0.183   -1.58e+04    8.24e+04\n",
       "Exterior1st_BrkComm    3.922e+04   2.68e+04      1.464      0.144   -1.33e+04    9.18e+04\n",
       "Exterior1st_BrkFace    4032.7803   7874.108      0.512      0.609   -1.14e+04    1.95e+04\n",
       "Exterior1st_CBlock    -1.101e+04   1.17e+04     -0.945      0.345   -3.39e+04    1.19e+04\n",
       "Exterior1st_CemntBd   -3.898e+04   1.45e+04     -2.697      0.007   -6.73e+04   -1.06e+04\n",
       "Exterior1st_HdBoard    -1.67e+04   7598.256     -2.199      0.028   -3.16e+04   -1795.892\n",
       "Exterior1st_ImStucc   -1.821e+04   1.97e+04     -0.924      0.355   -5.68e+04    2.04e+04\n",
       "Exterior1st_MetalSd   -1.094e+04   9964.125     -1.098      0.273   -3.05e+04    8614.139\n",
       "Exterior1st_Plywood   -1.406e+04   7736.757     -1.818      0.069   -2.92e+04    1117.549\n",
       "Exterior1st_Stone     -1.657e+04   2.26e+04     -0.734      0.463   -6.08e+04    2.77e+04\n",
       "Exterior1st_Stucco      460.3175   9499.286      0.048      0.961   -1.82e+04    1.91e+04\n",
       "Exterior1st_VinylSd   -1.754e+04   8242.029     -2.128      0.034   -3.37e+04   -1368.523\n",
       "Exterior1st_Wd Sdng   -1.901e+04   7380.354     -2.575      0.010   -3.35e+04   -4524.316\n",
       "Exterior1st_WdShing   -1.026e+04   8164.078     -1.257      0.209   -2.63e+04    5759.878\n",
       "Exterior2nd_AsbShng   -2.442e+04   1.08e+04     -2.266      0.024   -4.56e+04   -3272.406\n",
       "Exterior2nd_AsphShn   -3.488e+04      2e+04     -1.743      0.082   -7.42e+04    4385.149\n",
       "Exterior2nd_Brk Cmn   -2.026e+04   1.24e+04     -1.638      0.102   -4.45e+04    4007.336\n",
       "Exterior2nd_BrkFace    -1.02e+04   8168.815     -1.248      0.212   -2.62e+04    5829.781\n",
       "Exterior2nd_CBlock    -1.101e+04   1.17e+04     -0.945      0.345   -3.39e+04    1.19e+04\n",
       "Exterior2nd_CmentBd    2.893e+04   1.49e+04      1.942      0.052    -292.930    5.82e+04\n",
       "Exterior2nd_HdBoard    -666.8093   6805.249     -0.098      0.922    -1.4e+04    1.27e+04\n",
       "Exterior2nd_ImStucc     743.6209   8818.095      0.084      0.933   -1.66e+04     1.8e+04\n",
       "Exterior2nd_MetalSd     -79.5860   9293.798     -0.009      0.993   -1.83e+04    1.82e+04\n",
       "Exterior2nd_Other     -5926.7209   1.89e+04     -0.313      0.755   -4.31e+04    3.13e+04\n",
       "Exterior2nd_Plywood    -558.6764   6846.016     -0.082      0.935    -1.4e+04    1.29e+04\n",
       "Exterior2nd_Stone     -3826.4830   1.17e+04     -0.328      0.743   -2.67e+04    1.91e+04\n",
       "Exterior2nd_Stucco    -1.298e+04   9713.092     -1.336      0.182    -3.2e+04    6082.471\n",
       "Exterior2nd_VinylSd    5651.0344   7309.441      0.773      0.440   -8691.191       2e+04\n",
       "Exterior2nd_Wd Sdng    5567.6646   6529.015      0.853      0.394   -7243.246    1.84e+04\n",
       "Exterior2nd_Wd Shng   -1905.2605   6976.609     -0.273      0.785   -1.56e+04    1.18e+04\n",
       "MasVnrType_BrkCmn     -2.501e+04   1.72e+04     -1.456      0.146   -5.87e+04    8692.938\n",
       "MasVnrType_BrkFace    -1.374e+04   1.66e+04     -0.827      0.408   -4.63e+04    1.89e+04\n",
       "MasVnrType_None       -1.537e+04   1.67e+04     -0.923      0.356    -4.8e+04    1.73e+04\n",
       "MasVnrType_Stone      -1.156e+04    1.7e+04     -0.681      0.496   -4.48e+04    2.17e+04\n",
       "MasVnrType_none       -2.014e+04    1.8e+04     -1.117      0.264   -5.55e+04    1.52e+04\n",
       "ExterQual_Ex          -4280.9060    2.1e+04     -0.203      0.839   -4.56e+04     3.7e+04\n",
       "ExterQual_Fa           -3.33e+04   2.28e+04     -1.462      0.144    -7.8e+04    1.14e+04\n",
       "ExterQual_Gd          -2.137e+04   2.07e+04     -1.034      0.301   -6.19e+04    1.92e+04\n",
       "ExterQual_TA          -2.686e+04   2.07e+04     -1.299      0.194   -6.75e+04    1.37e+04\n",
       "ExterCond_Ex          -1.451e+04   2.34e+04     -0.621      0.535   -6.04e+04    3.13e+04\n",
       "ExterCond_Fa          -1.183e+04   1.79e+04     -0.661      0.509   -4.69e+04    2.33e+04\n",
       "ExterCond_Gd          -1.641e+04   1.74e+04     -0.942      0.346   -5.06e+04    1.78e+04\n",
       "ExterCond_Po          -2.922e+04   2.48e+04     -1.177      0.240   -7.79e+04    1.95e+04\n",
       "ExterCond_TA          -1.385e+04   1.74e+04     -0.798      0.425   -4.79e+04    2.02e+04\n",
       "Foundation_BrkTil     -1.579e+04   1.44e+04     -1.099      0.272    -4.4e+04    1.24e+04\n",
       "Foundation_CBlock     -9853.1445   1.42e+04     -0.693      0.489   -3.78e+04    1.81e+04\n",
       "Foundation_PConc      -9288.7376   1.43e+04     -0.651      0.515   -3.73e+04    1.87e+04\n",
       "Foundation_Slab       -1.619e+04   1.57e+04     -1.032      0.302    -4.7e+04    1.46e+04\n",
       "Foundation_Stone      -1.304e+04   1.62e+04     -0.805      0.421   -4.48e+04    1.88e+04\n",
       "Foundation_Wood       -2.166e+04   1.79e+04     -1.209      0.227   -5.68e+04    1.35e+04\n",
       "BsmtQual_Ex           -8458.7638   1.74e+04     -0.485      0.628   -4.27e+04    2.57e+04\n",
       "BsmtQual_Fa           -2.224e+04   1.72e+04     -1.293      0.196    -5.6e+04    1.15e+04\n",
       "BsmtQual_Gd            -2.31e+04   1.72e+04     -1.344      0.179   -5.68e+04    1.06e+04\n",
       "BsmtQual_TA            -2.19e+04   1.72e+04     -1.273      0.203   -5.57e+04    1.19e+04\n",
       "BsmtQual_none         -1.012e+04   1.52e+04     -0.665      0.506      -4e+04    1.97e+04\n",
       "BsmtCond_Fa           -2.774e+04    1.8e+04     -1.543      0.123    -6.3e+04    7533.459\n",
       "BsmtCond_Gd           -1.434e+04   1.79e+04     -0.803      0.422   -4.94e+04    2.07e+04\n",
       "BsmtCond_Po           -1.638e+04   1.95e+04     -0.842      0.400   -5.46e+04    2.18e+04\n",
       "BsmtCond_TA           -1.723e+04    1.8e+04     -0.958      0.338   -5.25e+04     1.8e+04\n",
       "BsmtCond_none         -1.012e+04   1.52e+04     -0.665      0.506      -4e+04    1.97e+04\n",
       "BsmtExposure_Av       -1.581e+04   1.72e+04     -0.919      0.358   -4.96e+04    1.79e+04\n",
       "BsmtExposure_Gd       -4164.3455   1.71e+04     -0.244      0.808   -3.77e+04    2.94e+04\n",
       "BsmtExposure_Mn       -1.764e+04   1.73e+04     -1.022      0.307   -5.15e+04    1.62e+04\n",
       "BsmtExposure_No       -1.897e+04   1.72e+04     -1.101      0.271   -5.28e+04    1.49e+04\n",
       "BsmtExposure_none     -2.922e+04   2.15e+04     -1.360      0.174   -7.14e+04    1.29e+04\n",
       "BsmtFinType1_ALQ      -1.159e+04   1.15e+04     -1.008      0.313   -3.41e+04     1.1e+04\n",
       "BsmtFinType1_BLQ      -1.388e+04   1.14e+04     -1.214      0.225   -3.63e+04    8552.621\n",
       "BsmtFinType1_GLQ      -5455.1721   1.16e+04     -0.470      0.639   -2.82e+04    1.73e+04\n",
       "BsmtFinType1_LwQ      -2.083e+04   1.16e+04     -1.793      0.073   -4.36e+04    1964.533\n",
       "BsmtFinType1_Rec      -1.445e+04   1.15e+04     -1.254      0.210   -3.71e+04    8164.568\n",
       "BsmtFinType1_Unf      -9487.0130   1.16e+04     -0.821      0.412   -3.22e+04    1.32e+04\n",
       "BsmtFinType1_none     -1.012e+04   1.52e+04     -0.665      0.506      -4e+04    1.97e+04\n",
       "BsmtFinType2_ALQ      -3787.1003   1.24e+04     -0.307      0.759    -2.8e+04    2.05e+04\n",
       "BsmtFinType2_BLQ      -2.203e+04   1.19e+04     -1.850      0.065   -4.54e+04    1333.080\n",
       "BsmtFinType2_GLQ      -9834.0000   1.29e+04     -0.765      0.444   -3.51e+04    1.54e+04\n",
       "BsmtFinType2_LwQ      -1.477e+04   1.17e+04     -1.262      0.207   -3.77e+04    8185.253\n",
       "BsmtFinType2_Rec      -1.117e+04   1.18e+04     -0.949      0.343   -3.43e+04    1.19e+04\n",
       "BsmtFinType2_Unf      -1.411e+04   1.18e+04     -1.193      0.233   -3.73e+04    9102.427\n",
       "BsmtFinType2_none     -1.012e+04   1.52e+04     -0.665      0.506      -4e+04    1.97e+04\n",
       "Heating_Floor         -1.327e+04   2.01e+04     -0.660      0.509   -5.27e+04    2.62e+04\n",
       "Heating_GasA          -8337.6189   1.48e+04     -0.565      0.573   -3.73e+04    2.06e+04\n",
       "Heating_GasW          -2.177e+04   1.51e+04     -1.441      0.150   -5.14e+04    7880.150\n",
       "Heating_Grav          -2.227e+04   1.63e+04     -1.370      0.171   -5.42e+04    9627.886\n",
       "Heating_OthW          -1.603e+04   2.21e+04     -0.725      0.468   -5.94e+04    2.73e+04\n",
       "Heating_Wall          -4134.3540    1.8e+04     -0.230      0.818   -3.94e+04    3.12e+04\n",
       "HeatingQC_Ex            -1.5e+04   1.71e+04     -0.878      0.380   -4.85e+04    1.85e+04\n",
       "HeatingQC_Fa           -1.45e+04   1.76e+04     -0.824      0.410    -4.9e+04       2e+04\n",
       "HeatingQC_Gd          -1.774e+04    1.7e+04     -1.041      0.298   -5.12e+04    1.57e+04\n",
       "HeatingQC_Po          -1.942e+04   2.37e+04     -0.821      0.412   -6.58e+04     2.7e+04\n",
       "HeatingQC_TA          -1.916e+04   1.72e+04     -1.114      0.265   -5.29e+04    1.46e+04\n",
       "CentralAir_N          -4.449e+04   4.15e+04     -1.072      0.284   -1.26e+05    3.69e+04\n",
       "CentralAir_Y          -4.132e+04   4.15e+04     -0.997      0.319   -1.23e+05       4e+04\n",
       "Electrical_FuseA      -1.466e+04   1.48e+04     -0.990      0.322   -4.37e+04    1.44e+04\n",
       "Electrical_FuseF      -1.793e+04   1.48e+04     -1.208      0.227   -4.71e+04    1.12e+04\n",
       "Electrical_FuseP      -1.893e+04   2.17e+04     -0.870      0.384   -6.16e+04    2.37e+04\n",
       "Electrical_Mix        -1.638e+04   1.95e+04     -0.842      0.400   -5.46e+04    2.18e+04\n",
       "Electrical_SBrkr      -1.642e+04   1.48e+04     -1.111      0.267   -4.54e+04    1.26e+04\n",
       "Electrical_none       -1491.5456   2.09e+04     -0.071      0.943   -4.25e+04    3.95e+04\n",
       "KitchenQual_Ex        -3419.5132   2.09e+04     -0.164      0.870   -4.45e+04    3.76e+04\n",
       "KitchenQual_Fa        -2.696e+04    2.1e+04     -1.285      0.199   -6.81e+04    1.42e+04\n",
       "KitchenQual_Gd        -2.611e+04   2.08e+04     -1.254      0.210    -6.7e+04    1.47e+04\n",
       "KitchenQual_TA        -2.933e+04   2.08e+04     -1.413      0.158   -7.01e+04    1.14e+04\n",
       "Functional_Maj1       -4181.2769   1.49e+04     -0.282      0.778   -3.33e+04     2.5e+04\n",
       "Functional_Maj2       -2.678e+04   1.74e+04     -1.539      0.124   -6.09e+04    7366.341\n",
       "Functional_Min1       -1.878e+04   1.43e+04     -1.309      0.191   -4.69e+04    9368.016\n",
       "Functional_Min2       -1.357e+04   1.48e+04     -0.914      0.361   -4.27e+04    1.56e+04\n",
       "Functional_Mod        -2.069e+04   1.53e+04     -1.355      0.176   -5.07e+04    9266.333\n",
       "Functional_Typ        -1808.0011   1.41e+04     -0.128      0.898   -2.94e+04    2.58e+04\n",
       "FireplaceQu_Ex        -1.943e+04   1.46e+04     -1.327      0.185   -4.82e+04    9300.904\n",
       "FireplaceQu_Fa        -1.648e+04   1.44e+04     -1.143      0.253   -4.48e+04    1.18e+04\n",
       "FireplaceQu_Gd        -9785.4131   1.38e+04     -0.708      0.479   -3.69e+04    1.73e+04\n",
       "FireplaceQu_Po        -1.577e+04   1.43e+04     -1.101      0.271   -4.39e+04    1.23e+04\n",
       "FireplaceQu_TA        -1.149e+04   1.39e+04     -0.829      0.407   -3.87e+04    1.57e+04\n",
       "FireplaceQu_none      -1.286e+04   1.42e+04     -0.905      0.366   -4.07e+04     1.5e+04\n",
       "GarageType_2Types       -2.4e+04   1.36e+04     -1.765      0.078   -5.07e+04    2682.302\n",
       "GarageType_Attchd     -9914.9878   1.15e+04     -0.859      0.391   -3.26e+04    1.27e+04\n",
       "GarageType_Basment    -6701.9164   1.33e+04     -0.506      0.613   -3.27e+04    1.93e+04\n",
       "GarageType_BuiltIn    -8807.7726   1.19e+04     -0.738      0.461   -3.22e+04    1.46e+04\n",
       "GarageType_CarPort    -1.236e+04   1.48e+04     -0.835      0.404   -4.14e+04    1.67e+04\n",
       "GarageType_Detchd     -1.089e+04   1.16e+04     -0.937      0.349   -3.37e+04    1.19e+04\n",
       "GarageType_none       -1.314e+04   1.54e+04     -0.856      0.392   -4.33e+04     1.7e+04\n",
       "GarageFinish_Fin      -2.167e+04   2.26e+04     -0.958      0.338   -6.61e+04    2.27e+04\n",
       "GarageFinish_RFn      -2.712e+04   2.25e+04     -1.203      0.229   -7.14e+04    1.71e+04\n",
       "GarageFinish_Unf      -2.388e+04   2.25e+04     -1.060      0.289   -6.81e+04    2.03e+04\n",
       "GarageFinish_none     -1.314e+04   1.54e+04     -0.856      0.392   -4.33e+04     1.7e+04\n",
       "GarageQual_Ex         -1.117e+04   1.51e+04     -0.739      0.460   -4.08e+04    1.85e+04\n",
       "GarageQual_Fa         -1.945e+04   1.47e+04     -1.325      0.185   -4.82e+04    9350.933\n",
       "GarageQual_Gd         -8904.2989   1.58e+04     -0.564      0.573   -3.99e+04    2.21e+04\n",
       "GarageQual_Po         -1.992e+04   2.01e+04     -0.989      0.323   -5.94e+04    1.96e+04\n",
       "GarageQual_TA         -1.323e+04   1.51e+04     -0.877      0.381   -4.28e+04    1.64e+04\n",
       "GarageQual_none       -1.314e+04   1.54e+04     -0.856      0.392   -4.33e+04     1.7e+04\n",
       "GarageCond_Ex         -1.117e+04   1.51e+04     -0.739      0.460   -4.08e+04    1.85e+04\n",
       "GarageCond_Fa         -2.008e+04   1.42e+04     -1.416      0.157   -4.79e+04    7751.205\n",
       "GarageCond_Gd         -1.452e+04   1.44e+04     -1.006      0.315   -4.28e+04    1.38e+04\n",
       "GarageCond_Po         -1.343e+04   1.72e+04     -0.781      0.435   -4.71e+04    2.03e+04\n",
       "GarageCond_TA         -1.348e+04    1.4e+04     -0.964      0.335   -4.09e+04     1.4e+04\n",
       "GarageCond_none       -1.314e+04   1.54e+04     -0.856      0.392   -4.33e+04     1.7e+04\n",
       "PavedDrive_N          -2.487e+04   2.79e+04     -0.893      0.372   -7.95e+04    2.98e+04\n",
       "PavedDrive_P          -3.385e+04   2.76e+04     -1.226      0.220    -8.8e+04    2.03e+04\n",
       "PavedDrive_Y          -2.709e+04   2.77e+04     -0.977      0.329   -8.15e+04    2.73e+04\n",
       "PoolQC_Fa             -2.078e+04   1.31e+04     -1.591      0.112   -4.64e+04    4849.137\n",
       "PoolQC_Gd              1.872e+04   1.18e+04      1.591      0.112   -4369.109    4.18e+04\n",
       "PoolQC_none           -8.376e+04    8.2e+04     -1.021      0.307   -2.45e+05    7.72e+04\n",
       "Fence_GdPrv            -1.73e+04   1.69e+04     -1.022      0.307   -5.05e+04    1.59e+04\n",
       "Fence_GdWo            -1.583e+04   1.69e+04     -0.938      0.348   -4.89e+04    1.73e+04\n",
       "Fence_MnPrv           -1.366e+04   1.67e+04     -0.817      0.414   -4.65e+04    1.92e+04\n",
       "Fence_MnWw            -2.509e+04   1.71e+04     -1.463      0.144   -5.87e+04    8551.461\n",
       "Fence_none            -1.394e+04   1.66e+04     -0.840      0.401   -4.65e+04    1.86e+04\n",
       "MiscFeature_Gar2      -9.537e+04   7.05e+04     -1.354      0.176   -2.34e+05    4.29e+04\n",
       "MiscFeature_Othr         1.6e+04   3.17e+04      0.504      0.614   -4.62e+04    7.82e+04\n",
       "MiscFeature_Shed       6291.3396   2.65e+04      0.238      0.812   -4.57e+04    5.83e+04\n",
       "MiscFeature_TenC      -2.078e+04   1.31e+04     -1.591      0.112   -4.64e+04    4849.137\n",
       "MiscFeature_none       8044.7937   2.94e+04      0.273      0.785   -4.97e+04    6.58e+04\n",
       "SaleType_COD          -1.522e+04   1.05e+04     -1.456      0.146   -3.57e+04    5288.361\n",
       "SaleType_CWD           2.499e+04   1.31e+04      1.911      0.056    -673.190    5.07e+04\n",
       "SaleType_Con           1.325e+04   1.61e+04      0.822      0.411   -1.84e+04    4.49e+04\n",
       "SaleType_ConLD        -7307.5291   1.17e+04     -0.627      0.531   -3.02e+04    1.56e+04\n",
       "SaleType_ConLI        -1.545e+04   1.58e+04     -0.977      0.329   -4.65e+04    1.56e+04\n",
       "SaleType_ConLw        -7603.1367   1.34e+04     -0.569      0.569   -3.38e+04    1.86e+04\n",
       "SaleType_New          -4.629e+04   1.92e+04     -2.411      0.016    -8.4e+04   -8625.290\n",
       "SaleType_Oth          -1.253e+04   1.39e+04     -0.902      0.367   -3.98e+04    1.47e+04\n",
       "SaleType_WD           -1.964e+04   9869.291     -1.990      0.047    -3.9e+04    -276.120\n",
       "SaleCondition_Abnorml -3.132e+04   1.44e+04     -2.170      0.030   -5.97e+04   -2998.141\n",
       "SaleCondition_AdjLand -1.761e+04   1.72e+04     -1.026      0.305   -5.13e+04    1.61e+04\n",
       "SaleCondition_Alloca  -1.067e+04   1.65e+04     -0.646      0.518   -4.31e+04    2.17e+04\n",
       "SaleCondition_Family  -2.488e+04   1.47e+04     -1.688      0.092   -5.38e+04    4049.024\n",
       "SaleCondition_Normal  -1.986e+04   1.45e+04     -1.371      0.171   -4.83e+04    8563.696\n",
       "SaleCondition_Partial  1.853e+04   2.09e+04      0.885      0.376   -2.25e+04    5.96e+04\n",
       "==============================================================================\n",
       "Omnibus:                      210.367   Durbin-Watson:                   1.943\n",
       "Prob(Omnibus):                  0.000   Jarque-Bera (JB):             3135.772\n",
       "Skew:                           0.162   Prob(JB):                         0.00\n",
       "Kurtosis:                      10.524   Cond. No.                     5.20e+17\n",
       "==============================================================================\n",
       "\n",
       "Notes:\n",
       "[1] Standard Errors assume that the covariance matrix of the errors is correctly specified.\n",
       "[2] The smallest eigenvalue is 5.58e-25. This might indicate that there are\n",
       "strong multicollinearity problems or that the design matrix is singular.\n",
       "\"\"\""
      ]
     },
     "execution_count": 132,
     "metadata": {},
     "output_type": "execute_result"
    }
   ],
   "source": [
    "results.summary()"
   ]
  },
  {
   "cell_type": "markdown",
   "metadata": {},
   "source": [
    "# multiple linear regression"
   ]
  },
  {
   "cell_type": "code",
   "execution_count": 133,
   "metadata": {},
   "outputs": [],
   "source": [
    " from sklearn.linear_model import LinearRegression"
   ]
  },
  {
   "cell_type": "code",
   "execution_count": 134,
   "metadata": {},
   "outputs": [],
   "source": [
    "lm=LinearRegression() # create a linear regression object"
   ]
  },
  {
   "cell_type": "code",
   "execution_count": 135,
   "metadata": {},
   "outputs": [
    {
     "data": {
      "text/plain": [
       "LinearRegression()"
      ]
     },
     "execution_count": 135,
     "metadata": {},
     "output_type": "execute_result"
    }
   ],
   "source": [
    "lm.fit(x_train,y_train) #fit the model"
   ]
  },
  {
   "cell_type": "code",
   "execution_count": 136,
   "metadata": {},
   "outputs": [],
   "source": [
    "yhat=lm.predict(x_test)"
   ]
  },
  {
   "cell_type": "code",
   "execution_count": 137,
   "metadata": {},
   "outputs": [],
   "source": [
    "from sklearn.metrics import mean_squared_error,r2_score"
   ]
  },
  {
   "cell_type": "code",
   "execution_count": 138,
   "metadata": {},
   "outputs": [
    {
     "name": "stdout",
     "output_type": "stream",
     "text": [
      "rsquared values for regression is: 0.9108612897862534\n"
     ]
    }
   ],
   "source": [
    "print('rsquared values for regression is:', r2_score(y_test,yhat))"
   ]
  },
  {
   "cell_type": "code",
   "execution_count": 139,
   "metadata": {},
   "outputs": [],
   "source": [
    "from sklearn.metrics import mean_squared_error"
   ]
  },
  {
   "cell_type": "code",
   "execution_count": 140,
   "metadata": {},
   "outputs": [
    {
     "name": "stdout",
     "output_type": "stream",
     "text": [
      "mean squared error for regression 1 is : 352987959.27020293\n",
      "root mean squared error for regression 1 is : 18787.973793632\n"
     ]
    }
   ],
   "source": [
    "print('mean squared error for regression 1 is :',mean_squared_error(y_test,yhat))\n",
    "print('root mean squared error for regression 1 is :',np.sqrt(mean_squared_error( ,yhat)))"
   ]
  },
  {
   "cell_type": "code",
   "execution_count": 141,
   "metadata": {},
   "outputs": [
    {
     "name": "stderr",
     "output_type": "stream",
     "text": [
      "C:\\ProgramData\\Anaconda3\\lib\\site-packages\\seaborn\\distributions.py:2551: FutureWarning: `distplot` is a deprecated function and will be removed in a future version. Please adapt your code to use either `displot` (a figure-level function with similar flexibility) or `kdeplot` (an axes-level function for kernel density plots).\n",
      "  warnings.warn(msg, FutureWarning)\n",
      "C:\\ProgramData\\Anaconda3\\lib\\site-packages\\seaborn\\distributions.py:2551: FutureWarning: `distplot` is a deprecated function and will be removed in a future version. Please adapt your code to use either `displot` (a figure-level function with similar flexibility) or `kdeplot` (an axes-level function for kernel density plots).\n",
      "  warnings.warn(msg, FutureWarning)\n"
     ]
    },
    {
     "data": {
      "text/plain": [
       "<AxesSubplot:xlabel='Property_Sale_Price', ylabel='Density'>"
      ]
     },
     "execution_count": 141,
     "metadata": {},
     "output_type": "execute_result"
    },
    {
     "data": {
      "image/png": "[encoded data removed]",
      "text/plain": [
       "<Figure size 432x288 with 1 Axes>"
      ]
     },
     "metadata": {
      "needs_background": "light"
     },
     "output_type": "display_data"
    }
   ],
   "source": [
    "ax1=sns.distplot(y,hist=False,color='r',label='actual values')\n",
    "sns.distplot(yhat,hist=False,color='b',label='fitted values',ax=ax1)"
   ]
  },
  {
   "cell_type": "markdown",
   "metadata": {},
   "source": [
    "# cross validation...techniques to check accuracy"
   ]
  },
  {
   "cell_type": "markdown",
   "metadata": {},
   "source": [
    "# 1. hold out validation approach..test train split"
   ]
  },
  {
   "cell_type": "code",
   "execution_count": 142,
   "metadata": {},
   "outputs": [],
   "source": [
    "import copy\n",
    "\n",
    "x1=copy.copy(x)\n",
    "y1=copy.copy(y)\n"
   ]
  },
  {
   "cell_type": "markdown",
   "metadata": {},
   "source": [
    "### cross validation by decision tree....changing iteration and seeing"
   ]
  },
  {
   "cell_type": "code",
   "execution_count": 143,
   "metadata": {},
   "outputs": [
    {
     "name": "stdout",
     "output_type": "stream",
     "text": [
      "0.36666666666666664\n"
     ]
    }
   ],
   "source": [
    "from sklearn.tree import DecisionTreeClassifier\n",
    "from sklearn.model_selection import train_test_split\n",
    "x5_train,x5_test,y5_train,y5_test=train_test_split(x1,y1,test_size=30,random_state=0)\n",
    "lm= DecisionTreeClassifier() # create a linear regression object\n",
    "lm.fit(x5_train,y5_train) #fit the model\n",
    "result=lm.score(x5_test,y5_test)\n",
    "print(result)"
   ]
  },
  {
   "cell_type": "code",
   "execution_count": 144,
   "metadata": {},
   "outputs": [
    {
     "name": "stdout",
     "output_type": "stream",
     "text": [
      "0.5\n"
     ]
    }
   ],
   "source": [
    "from sklearn.tree import DecisionTreeClassifier\n",
    "from sklearn.model_selection import train_test_split\n",
    "x5_train,x5_test,y5_train,y5_test=train_test_split(x1,y1,test_size=30,random_state=5)\n",
    "lm= DecisionTreeClassifier() # create a linear regression object\n",
    "lm.fit(x5_train,y5_train) #fit the model\n",
    "result=lm.score(x5_test,y5_test)\n",
    "print(result)"
   ]
  },
  {
   "cell_type": "markdown",
   "metadata": {},
   "source": [
    "### cross validation by linear regression....changing iteration and seeing"
   ]
  },
  {
   "cell_type": "code",
   "execution_count": 145,
   "metadata": {},
   "outputs": [
    {
     "name": "stdout",
     "output_type": "stream",
     "text": [
      "0.871721009741711\n"
     ]
    }
   ],
   "source": [
    "from sklearn.linear_model import LinearRegression\n",
    "from sklearn.model_selection import train_test_split\n",
    "x5_train,x5_test,y5_train,y5_test=train_test_split(x1,y1,test_size=30,random_state=0)\n",
    "lr= LinearRegression() # create a linear regression object\n",
    "lr.fit(x5_train,y5_train) #fit the model\n",
    "result=lr.score(x5_test,y5_test)\n",
    "print(result)"
   ]
  },
  {
   "cell_type": "code",
   "execution_count": 146,
   "metadata": {},
   "outputs": [
    {
     "name": "stdout",
     "output_type": "stream",
     "text": [
      "0.9434183886819357\n"
     ]
    }
   ],
   "source": [
    "from sklearn.linear_model import LinearRegression\n",
    "from sklearn.model_selection import train_test_split\n",
    "x5_train,x5_test,y5_train,y5_test=train_test_split(x1,y1,test_size=30,random_state=25)\n",
    "lr= LinearRegression() # create a linear regression object\n",
    "lr.fit(x5_train,y5_train) #fit the model\n",
    "result=lr.score(x5_test,y5_test)\n",
    "print(result)"
   ]
  },
  {
   "cell_type": "markdown",
   "metadata": {},
   "source": [
    "# 2. kfold cross validation"
   ]
  },
  {
   "cell_type": "markdown",
   "metadata": {},
   "source": [
    "### by linear regression"
   ]
  },
  {
   "cell_type": "code",
   "execution_count": 147,
   "metadata": {},
   "outputs": [
    {
     "name": "stdout",
     "output_type": "stream",
     "text": [
      "[ 9.02662585e-01  9.07523030e-01  9.09538990e-01  8.72569775e-01\n",
      "  9.40966833e-01 -1.61431693e+07  9.10990827e-01 -2.25554435e+06\n",
      "  9.21034560e-01  9.32637187e-01]\n",
      "-1839870.6306905348\n"
     ]
    }
   ],
   "source": [
    "from sklearn.model_selection import KFold\n",
    "lr= LinearRegression() # create a linear regression object\n",
    "kfold_validation=KFold(10)# it will do 10 different split\n",
    "import numpy as np\n",
    "from sklearn.model_selection import cross_val_score\n",
    "results=cross_val_score(lr,x1,y1,cv=kfold_validation)\n",
    "print(results)\n",
    "print(np.mean(results))"
   ]
  },
  {
   "cell_type": "code",
   "execution_count": 148,
   "metadata": {},
   "outputs": [
    {
     "name": "stdout",
     "output_type": "stream",
     "text": [
      "[ 8.98793251e-01  8.90464062e-01 -1.00227949e+08  9.15627165e-01\n",
      "  9.05278105e-01]\n",
      "-20045589.026855864\n"
     ]
    }
   ],
   "source": [
    "from sklearn.model_selection import KFold\n",
    "lb= LinearRegression() # create a linear regression object\n",
    "kfold_validation=KFold(5)# it will do 10 different split\n",
    "import numpy as np\n",
    "from sklearn.model_selection import cross_val_score\n",
    "results=cross_val_score(lb,x1,y1,cv=kfold_validation)\n",
    "print(results)\n",
    "print(np.mean(results))"
   ]
  },
  {
   "cell_type": "markdown",
   "metadata": {},
   "source": [
    "### by decision tree"
   ]
  },
  {
   "cell_type": "code",
   "execution_count": 149,
   "metadata": {},
   "outputs": [
    {
     "name": "stdout",
     "output_type": "stream",
     "text": [
      "[0.18421053 0.00526316 0.         0.3        0.69473684 0.17894737\n",
      " 0.18518519 0.5978836  0.5978836  0.8994709 ]\n",
      "0.3643581175160123\n"
     ]
    }
   ],
   "source": [
    "from sklearn.model_selection import KFold\n",
    "lt= DecisionTreeClassifier() # create a linear regression object\n",
    "kfold_validation=KFold(10)# it will do 10 different split\n",
    "import numpy as np\n",
    "from sklearn.model_selection import cross_val_score\n",
    "results=cross_val_score(lt,x1,y1,cv=kfold_validation)\n",
    "print(results)\n",
    "print(np.mean(results))"
   ]
  },
  {
   "cell_type": "code",
   "execution_count": 150,
   "metadata": {},
   "outputs": [
    {
     "name": "stdout",
     "output_type": "stream",
     "text": [
      "[0.11315789 0.13720317 0.42480211 0.33509235 0.77044855]\n",
      "0.3561408137758645\n"
     ]
    }
   ],
   "source": [
    "from sklearn.model_selection import KFold\n",
    "ld= DecisionTreeClassifier() # create a linear regression object\n",
    "kfold_validation=KFold(5)# it will do 10 different split\n",
    "import numpy as np\n",
    "from sklearn.model_selection import cross_val_score\n",
    "results=cross_val_score(ld,x1,y1,cv=kfold_validation)\n",
    "print(results)\n",
    "print(np.mean(results))"
   ]
  },
  {
   "cell_type": "markdown",
   "metadata": {},
   "source": [
    "# 3. stratified kfold cross validation....used for inbalanced data"
   ]
  },
  {
   "cell_type": "markdown",
   "metadata": {},
   "source": [
    "### by decission tree"
   ]
  },
  {
   "cell_type": "code",
   "execution_count": 151,
   "metadata": {},
   "outputs": [
    {
     "name": "stderr",
     "output_type": "stream",
     "text": [
      "C:\\ProgramData\\Anaconda3\\lib\\site-packages\\sklearn\\model_selection\\_split.py:670: UserWarning: The least populated class in y has only 1 members, which is less than n_splits=5.\n",
      "  warnings.warn((\"The least populated class in y has only %d\"\n"
     ]
    },
    {
     "name": "stdout",
     "output_type": "stream",
     "text": [
      "[0.25       0.32717678 0.32189974 0.42744063 0.55936675]\n",
      "0.3771767810026385\n"
     ]
    }
   ],
   "source": [
    "from sklearn.model_selection import StratifiedKFold\n",
    "skfold= StratifiedKFold(n_splits=5)\n",
    "lz= DecisionTreeClassifier() # create a linear regression object\n",
    "results=cross_val_score(lz,x1,y1,cv=skfold)\n",
    "print(results)\n",
    "print(np.mean(results))"
   ]
  },
  {
   "cell_type": "markdown",
   "metadata": {},
   "source": [
    "### by linear regression"
   ]
  },
  {
   "cell_type": "code",
   "execution_count": 152,
   "metadata": {},
   "outputs": [
    {
     "name": "stderr",
     "output_type": "stream",
     "text": [
      "C:\\ProgramData\\Anaconda3\\lib\\site-packages\\sklearn\\model_selection\\_split.py:670: UserWarning: The least populated class in y has only 1 members, which is less than n_splits=5.\n",
      "  warnings.warn((\"The least populated class in y has only %d\"\n"
     ]
    },
    {
     "name": "stdout",
     "output_type": "stream",
     "text": [
      "[0.88212358 0.9282195  0.9221781  0.9019831  0.91669179]\n",
      "0.9102392162420821\n"
     ]
    }
   ],
   "source": [
    "from sklearn.model_selection import StratifiedKFold\n",
    "skfold= StratifiedKFold(n_splits=5)\n",
    "lU= LinearRegression() # create a linear regression object\n",
    "results=cross_val_score(lU,x1,y1,cv=skfold)\n",
    "print(results)\n",
    "print(np.mean(results))"
   ]
  },
  {
   "cell_type": "markdown",
   "metadata": {},
   "source": [
    "# 4. reapeated random test train split"
   ]
  },
  {
   "cell_type": "markdown",
   "metadata": {},
   "source": [
    "### by linear regression"
   ]
  },
  {
   "cell_type": "code",
   "execution_count": 153,
   "metadata": {},
   "outputs": [
    {
     "name": "stdout",
     "output_type": "stream",
     "text": [
      "[ 9.00455763e-01 -5.52352666e+08 -1.36744722e+09  9.10185853e-01\n",
      " -8.97570536e+09 -2.93424556e+09  9.17951367e-01  8.98866134e-01\n",
      " -2.51402944e+08  9.04816045e-01]\n",
      "-1408115374.9276478\n"
     ]
    }
   ],
   "source": [
    "from sklearn.model_selection import ShuffleSplit\n",
    "lj= LinearRegression() # create a linear regression object\n",
    "ssplit=ShuffleSplit(n_splits=10,test_size=0.30)\n",
    "results=cross_val_score(lj,x1,y1,cv=ssplit)\n",
    "print(results)\n",
    "print(np.mean(results))"
   ]
  },
  {
   "cell_type": "markdown",
   "metadata": {},
   "source": [
    "### by decission tree"
   ]
  },
  {
   "cell_type": "code",
   "execution_count": 154,
   "metadata": {},
   "outputs": [
    {
     "name": "stdout",
     "output_type": "stream",
     "text": [
      "[0.29876977 0.29173989 0.33216169 0.30052724 0.2741652  0.28119508\n",
      " 0.25307557 0.3198594  0.28646749 0.31107206]\n",
      "0.2949033391915642\n"
     ]
    }
   ],
   "source": [
    "from sklearn.model_selection import ShuffleSplit\n",
    "ld=DecisionTreeClassifier() # create a linear regression object\n",
    "ssplit=ShuffleSplit(n_splits=10,test_size=0.30)\n",
    "results=cross_val_score(ld,x1,y1,cv=ssplit)\n",
    "print(results)\n",
    "print(np.mean(results))"
   ]
  },
  {
   "cell_type": "markdown",
   "metadata": {},
   "source": [
    "# observation"
   ]
  },
  {
   "cell_type": "markdown",
   "metadata": {},
   "source": [
    "### By doing cross validation with differnt models we get to a conculsion that with OLS model we get good accuracy as comparing with other models"
   ]
  }
 ],
 "metadata": {
  "kernelspec": {
   "display_name": "Python 3",
   "language": "python",
   "name": "python3"
  },
  "language_info": {
   "codemirror_mode": {
    "name": "ipython",
    "version": 3
   },
   "file_extension": ".py",
   "mimetype": "text/x-python",
   "name": "python",
   "nbconvert_exporter": "python",
   "pygments_lexer": "ipython3",
   "version": "3.8.5"
  }
 },
 "nbformat": 4,
 "nbformat_minor": 4
}
